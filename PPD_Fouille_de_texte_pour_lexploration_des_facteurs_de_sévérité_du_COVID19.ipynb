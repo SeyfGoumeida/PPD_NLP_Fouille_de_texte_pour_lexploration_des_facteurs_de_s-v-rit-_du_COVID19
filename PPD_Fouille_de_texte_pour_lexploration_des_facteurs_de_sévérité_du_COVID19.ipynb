{
  "nbformat": 4,
  "nbformat_minor": 0,
  "metadata": {
    "colab": {
      "name": "PPD_Fouille_de_texte_pour_lexploration_des_facteurs_de_sévérité_du_COVID19.ipynb",
      "provenance": [],
      "collapsed_sections": [
        "ogpQOKxMeIzn",
        "h5poRtkuGdWn",
        "wyhzey_1GdWq",
        "G4vZi8C1GdWs",
        "ftrYJq7xGdW0",
        "uyanCizrGdW2",
        "eQlh6HQWGdW2",
        "cXlRaj-3GdW3",
        "MFMzbLH4GdW4",
        "0Z6kHFa5GdW7",
        "U-brgMCWewo-",
        "yaUiP7VlvIB4",
        "wyYX8YfCvOkU"
      ],
      "include_colab_link": true
    },
    "kernelspec": {
      "name": "python3",
      "display_name": "Python 3"
    },
    "language_info": {
      "name": "python"
    },
    "accelerator": "GPU"
  },
  "cells": [
    {
      "cell_type": "markdown",
      "metadata": {
        "id": "view-in-github",
        "colab_type": "text"
      },
      "source": [
        "<a href=\"https://colab.research.google.com/github/SeyfGoumeida/PPD_NLP_sivirity_factors_COVID19/blob/main/PPD_Fouille_de_texte_pour_lexploration_des_facteurs_de_s%C3%A9v%C3%A9rit%C3%A9_du_COVID19.ipynb\" target=\"_parent\"><img src=\"https://colab.research.google.com/assets/colab-badge.svg\" alt=\"Open In Colab\"/></a>"
      ]
    },
    {
      "cell_type": "markdown",
      "metadata": {
        "id": "wJ5Rg27yGdWd"
      },
      "source": [
        "# COVID-19 Literature Clustering"
      ]
    },
    {
      "cell_type": "markdown",
      "source": [
        "# Préparation de l'environnement"
      ],
      "metadata": {
        "id": "ogpQOKxMeIzn"
      }
    },
    {
      "cell_type": "code",
      "execution_count": null,
      "metadata": {
        "colab": {
          "base_uri": "https://localhost:8080/"
        },
        "id": "4M_HY5CFGdWl",
        "outputId": "ab1477aa-26b2-4bf5-cdc1-cb8932d170df"
      },
      "outputs": [
        {
          "output_type": "stream",
          "name": "stdout",
          "text": [
            "Collecting Bio\n",
            "  Downloading bio-1.3.6-py3-none-any.whl (273 kB)\n",
            "\u001b[K     |████████████████████████████████| 273 kB 4.5 MB/s \n",
            "\u001b[?25hCollecting biopython>=1.79\n",
            "  Downloading biopython-1.79-cp37-cp37m-manylinux_2_5_x86_64.manylinux1_x86_64.whl (2.3 MB)\n",
            "\u001b[K     |████████████████████████████████| 2.3 MB 36.9 MB/s \n",
            "\u001b[?25hRequirement already satisfied: tqdm in /usr/local/lib/python3.7/dist-packages (from Bio) (4.63.0)\n",
            "Collecting mygene\n",
            "  Downloading mygene-3.2.2-py2.py3-none-any.whl (5.4 kB)\n",
            "Requirement already satisfied: requests in /usr/local/lib/python3.7/dist-packages (from Bio) (2.23.0)\n",
            "Requirement already satisfied: numpy in /usr/local/lib/python3.7/dist-packages (from biopython>=1.79->Bio) (1.21.5)\n",
            "Collecting biothings-client>=0.2.6\n",
            "  Downloading biothings_client-0.2.6-py2.py3-none-any.whl (37 kB)\n",
            "Requirement already satisfied: idna<3,>=2.5 in /usr/local/lib/python3.7/dist-packages (from requests->Bio) (2.10)\n",
            "Requirement already satisfied: urllib3!=1.25.0,!=1.25.1,<1.26,>=1.21.1 in /usr/local/lib/python3.7/dist-packages (from requests->Bio) (1.24.3)\n",
            "Requirement already satisfied: chardet<4,>=3.0.2 in /usr/local/lib/python3.7/dist-packages (from requests->Bio) (3.0.4)\n",
            "Requirement already satisfied: certifi>=2017.4.17 in /usr/local/lib/python3.7/dist-packages (from requests->Bio) (2021.10.8)\n",
            "Installing collected packages: biothings-client, mygene, biopython, Bio\n",
            "Successfully installed Bio-1.3.6 biopython-1.79 biothings-client-0.2.6 mygene-3.2.2\n",
            "\u001b[38;5;2m✔ Download and installation successful\u001b[0m\n",
            "You can now load the package via spacy.load('en_core_web_lg')\n",
            "[nltk_data] Downloading package wordnet to /root/nltk_data...\n",
            "[nltk_data]   Unzipping corpora/wordnet.zip.\n",
            "[nltk_data] Downloading package averaged_perceptron_tagger to\n",
            "[nltk_data]     /root/nltk_data...\n",
            "[nltk_data]   Unzipping taggers/averaged_perceptron_tagger.zip.\n"
          ]
        }
      ],
      "source": [
        "import numpy as np # linear algebra\n",
        "import pandas as pd # data processing, CSV file I/O (e.g. pd.read_csv)\n",
        "import glob\n",
        "import json\n",
        "!pip install Bio\n",
        "import Bio\n",
        "from Bio import Entrez\n",
        "from Bio import Medline\n",
        "import matplotlib.pyplot as plt\n",
        "plt.style.use('ggplot')\n",
        "#----------------------------------------------\n",
        "#Download the spacy bio parser\n",
        "from IPython.utils import io\n",
        "with io.capture_output() as captured:\n",
        "  !pip install https://s3-us-west-2.amazonaws.com/ai2-s2-scispacy/releases/v0.4.0/en_core_sci_lg-0.4.0.tar.gz\n",
        "#----------------------------\n",
        "import spacy.cli\n",
        "spacy.cli.download(\"en_core_web_lg\")\n",
        "import en_core_web_lg\n",
        "nlp = en_core_web_lg.load()\n",
        "#----------------------------\n",
        "#NLP \n",
        "import spacy\n",
        "from spacy.lang.en.stop_words import STOP_WORDS\n",
        "import en_core_sci_lg  # model downloaded in previous step\n",
        "#--------------------------------------------------\n",
        "\n",
        "import nltk\n",
        "nltk.download('wordnet')\n",
        "nltk.download('averaged_perceptron_tagger')\n",
        "from nltk.corpus import wordnet\n",
        "from nltk.stem import WordNetLemmatizer\n",
        "\n"
      ]
    },
    {
      "cell_type": "code",
      "source": [
        "%matplotlib inline\n",
        "\n",
        "from scipy.io import loadmat\n",
        "from sklearn.metrics import (adjusted_rand_score as ari,\n",
        "                             normalized_mutual_info_score as nmi)\n",
        "\n",
        "!pip install coclust\n",
        "from coclust.coclustering import (CoclustMod, CoclustSpecMod, CoclustInfo)\n",
        "from coclust.io.data_loading import load_doc_term_data\n",
        "from coclust.evaluation.internal import best_modularity_partition\n",
        "#from coclust.evaluation.external import accuracy\n",
        "from coclust.io.notebook import(input_with_default_int, input_with_default_str)\n",
        "from coclust.visualization import (plot_max_modularities, \n",
        "                                   plot_intermediate_modularities,\n",
        "                                   plot_cluster_top_terms, \n",
        "                                   get_term_graph, \n",
        "                                   plot_cluster_sizes,\n",
        "                                   plot_reorganized_matrix,\n",
        "                                   plot_convergence)"
      ],
      "metadata": {
        "colab": {
          "base_uri": "https://localhost:8080/"
        },
        "id": "F8K_cxaskMUF",
        "outputId": "a1372310-8a1b-4aba-a91b-04cd8db0db81"
      },
      "execution_count": null,
      "outputs": [
        {
          "output_type": "stream",
          "name": "stdout",
          "text": [
            "Collecting coclust\n",
            "  Downloading coclust-0.2.1.tar.gz (21 kB)\n",
            "Requirement already satisfied: numpy in /usr/local/lib/python3.7/dist-packages (from coclust) (1.21.5)\n",
            "Requirement already satisfied: scipy in /usr/local/lib/python3.7/dist-packages (from coclust) (1.4.1)\n",
            "Requirement already satisfied: scikit-learn in /usr/local/lib/python3.7/dist-packages (from coclust) (1.0.2)\n",
            "Requirement already satisfied: threadpoolctl>=2.0.0 in /usr/local/lib/python3.7/dist-packages (from scikit-learn->coclust) (3.1.0)\n",
            "Requirement already satisfied: joblib>=0.11 in /usr/local/lib/python3.7/dist-packages (from scikit-learn->coclust) (1.1.0)\n",
            "Building wheels for collected packages: coclust\n",
            "  Building wheel for coclust (setup.py) ... \u001b[?25l\u001b[?25hdone\n",
            "  Created wheel for coclust: filename=coclust-0.2.1-py3-none-any.whl size=29872 sha256=8e2cdd3559bf145bc221b3b84538fec0d18c6ed153d0493a42d5c2d3cbb93694\n",
            "  Stored in directory: /root/.cache/pip/wheels/78/e9/dc/3f80429511bb4aa68ebf39a0f141661230809490d53557ce4a\n",
            "Successfully built coclust\n",
            "Installing collected packages: coclust\n",
            "Successfully installed coclust-0.2.1\n"
          ]
        }
      ]
    },
    {
      "cell_type": "markdown",
      "metadata": {
        "id": "uyanCizrGdW2"
      },
      "source": [
        "# Data Pre-processing"
      ]
    },
    {
      "cell_type": "code",
      "execution_count": null,
      "metadata": {
        "id": "3gFH3Z-uGdWm"
      },
      "outputs": [],
      "source": [
        "def get_breaks(content, length):\n",
        "    data = \"\"\n",
        "    words = content.split(' ')\n",
        "    total_chars = 0\n",
        "\n",
        "    # add break every length characters\n",
        "    for i in range(len(words)):\n",
        "        total_chars += len(words[i])\n",
        "        if total_chars > length:\n",
        "            data = data + \"<br>\" + words[i]\n",
        "            total_chars = 0\n",
        "        else:\n",
        "            data = data + \" \" + words[i]\n",
        "    return data"
      ]
    },
    {
      "cell_type": "markdown",
      "metadata": {
        "id": "h5poRtkuGdWn"
      },
      "source": [
        "#### specification du nombre de fichiers a lire : "
      ]
    },
    {
      "cell_type": "code",
      "execution_count": null,
      "metadata": {
        "id": "B7dg7LQ8GdWo"
      },
      "outputs": [],
      "source": [
        "max_searchs = 5000\n",
        "terms = \"coronavirus covid covid19 severity\"\n",
        "\n",
        "Entrez.email = 'A.N.Other@example.com'\n",
        "ids=[[]]\n",
        "print(\"max_searchs : \",max_searchs)\n",
        "for i in range(0,max_searchs,100):\n",
        "  print(i,\" \", end='')\n",
        "  h = Entrez.esearch(db='pubmed', retmax=100,retstart=i, term=term)\n",
        "  result = Entrez.read(h)\n",
        "  ids.append(result['IdList'])\n",
        "h = Entrez.efetch(db='pubmed', id=ids, rettype='medline', retmode='json')\n",
        "records = Medline.parse(h)"
      ]
    },
    {
      "cell_type": "code",
      "execution_count": null,
      "metadata": {
        "id": "FYVl_5GdGdWp",
        "outputId": "b4ecd334-9024-4f1a-d1a1-848c8f4ed8b1",
        "colab": {
          "base_uri": "https://localhost:8080/"
        }
      },
      "outputs": [
        {
          "output_type": "stream",
          "name": "stdout",
          "text": [
            "max_searchs :  40000\n",
            "0  100  200  300  400  500  600  700  800  900  1000  1100  1200  1300  1400  1500  1600  1700  1800  1900  2000  2100  2200  2300  2400  2500  2600  2700  2800  2900  3000  3100  3200  3300  3400  3500  3600  3700  3800  3900  4000  4100  4200  4300  4400  4500  4600  4700  4800  4900  5000  5100  5200  5300  5400  5500  5600  5700  5800  5900  6000  6100  6200  6300  6400  6500  6600  6700  6800  6900  7000  7100  7200  7300  7400  7500  7600  7700  7800  7900  8000  8100  8200  8300  8400  8500  8600  8700  8800  8900  9000  9100  9200  9300  9400  9500  9600  9700  9800  9900  10000  10100  10200  10300  10400  10500  10600  10700  10800  10900  11000  11100  11200  11300  11400  11500  11600  11700  11800  11900  12000  12100  12200  12300  12400  12500  12600  12700  12800  12900  13000  13100  13200  13300  13400  13500  13600  13700  13800  13900  14000  14100  14200  14300  14400  14500  14600  14700  14800  14900  15000  15100  15200  15300  15400  15500  15600  15700  15800  15900  16000  16100  16200  16300  16400  16500  16600  16700  16800  16900  17000  17100  17200  17300  17400  17500  17600  17700  17800  17900  18000  18100  18200  18300  18400  18500  18600  18700  18800  18900  19000  19100  19200  19300  19400  19500  19600  19700  19800  19900  20000  20100  20200  20300  20400  20500  20600  20700  20800  20900  21000  21100  21200  21300  21400  21500  21600  21700  21800  21900  22000  22100  22200  22300  22400  22500  22600  22700  22800  22900  23000  23100  23200  23300  23400  23500  23600  23700  23800  23900  24000  24100  24200  24300  24400  24500  24600  24700  24800  24900  25000  25100  25200  25300  25400  25500  25600  25700  25800  25900  26000  26100  26200  26300  26400  26500  26600  26700  26800  26900  27000  27100  27200  27300  27400  27500  27600  27700  27800  27900  28000  28100  28200  28300  28400  28500  28600  28700  28800  28900  29000  29100  29200  29300  29400  29500  29600  29700  29800  29900  30000  30100  30200  30300  30400  30500  30600  30700  30800  30900  31000  31100  31200  31300  31400  31500  31600  31700  31800  31900  32000  32100  32200  32300  32400  32500  32600  32700  32800  32900  33000  33100  33200  33300  33400  33500  33600  33700  33800  33900  34000  34100  34200  34300  34400  34500  34600  34700  34800  34900  35000  35100  35200  35300  35400  35500  35600  35700  35800  35900  36000  36100  36200  36300  36400  36500  36600  36700  36800  36900  37000  37100  37200  37300  37400  37500  37600  37700  37800  37900  38000  38100  38200  38300  38400  38500  38600  38700  38800  38900  39000  39100  39200  39300  39400  39500  39600  39700  39800  39900  "
          ]
        }
      ],
      "source": [
        ""
      ]
    },
    {
      "cell_type": "code",
      "execution_count": null,
      "metadata": {
        "id": "l4ZLlyHTLPMu"
      },
      "outputs": [],
      "source": [
        "dict_ = {'paper_id': [], 'abstract': [], 'body_text': [], 'authors': [], 'title': [], 'journal': [], 'abstract_summary': []}\n",
        "\n",
        "def append_records(records):\n",
        "    for idx, entry in enumerate(records):\n",
        "\n",
        "        if idx >max_searchs:\n",
        "            break\n",
        "        #--------------------------------------------------\n",
        "        try:\n",
        "            dict_['paper_id'].append(entry[\"PMID\"])\n",
        "        except Exception as e:\n",
        "            dict_['paper_id'].append(\"\")\n",
        "        #--------------------------------------------------      \n",
        "        try:\n",
        "            dict_['abstract'].append(entry[\"AB\"])\n",
        "            # also create a column for the summary of abstract to be used in a plot\n",
        "            if len(entry[\"AB\"]) == 0: \n",
        "                # no abstract provided\n",
        "                dict_['abstract_summary'].append(\"Not provided.\")\n",
        "            elif len(entry[\"AB\"].split(' ')) > 100:\n",
        "                # abstract provided is too long for plot, take first 100 words append with ...\n",
        "                info = entry[\"AB\"].split(' ')[:100]\n",
        "                summary = get_breaks(' '.join(info), 40)\n",
        "                dict_['abstract_summary'].append(summary + \"...\")\n",
        "            else:\n",
        "                # abstract is short enough\n",
        "                summary = get_breaks(entry[\"AB\"], 40)\n",
        "                dict_['abstract_summary'].append(summary)\n",
        "        except Exception as e:\n",
        "            dict_['abstract'].append(\"\")  \n",
        "            dict_['abstract_summary'].append(\"Not provided.\")\n",
        "\n",
        "        #--------------------------------------------------      \n",
        "        try:\n",
        "            dict_['body_text'].append(entry[\"AB\"])\n",
        "        except Exception as e:\n",
        "            dict_['body_text'].append(\"\") \n",
        "        #--------------------------------------------------\n",
        "        try:\n",
        "            # if more than one author\n",
        "            authors = entry['AU'][0].split(',')\n",
        "            if len(authors) > 2:\n",
        "                # if more than 2 authors, take them all with html tag breaks in between\n",
        "                dict_['authors'].append(get_breaks('. '.join(authors), 40))\n",
        "            else:\n",
        "                # authors will fit in plot\n",
        "                dict_['authors'].append(\". \".join(authors))\n",
        "        except Exception as e:\n",
        "            # if only one author - or Null valie\n",
        "            try : \n",
        "                dict_['authors'].append(entry['AU'][0])\n",
        "            except Exception as e:\n",
        "                dict_['authors'].append(\"\")\n",
        "\n",
        "\n",
        "        #-------------------------------------------------- \n",
        "        # add the title information, add breaks when needed\n",
        "        try:\n",
        "            title = get_breaks(entry['TI'][0], 40)\n",
        "            dict_['title'].append(title)\n",
        "        # if title was not provided\n",
        "        except Exception as e:\n",
        "            try:\n",
        "                dict_['title'].append(entry['TI'][0])\n",
        "            except Exception as e:\n",
        "                dict_['title'].append(\"\")\n",
        "        #-------------------------------------------------- \n",
        "        # add the journal information\n",
        "        try:\n",
        "            dict_['journal'].append(entry['PT'][0])\n",
        "        except Exception as e:\n",
        "            dict_['journal'].append(\"\")\n",
        "\n",
        "\n",
        "    return dict_"
      ]
    },
    {
      "cell_type": "code",
      "execution_count": null,
      "metadata": {
        "id": "s8peedbYLaus",
        "outputId": "6a15c7ab-6866-40b7-816e-6f06d2c994e0",
        "colab": {
          "base_uri": "https://localhost:8080/"
        }
      },
      "outputs": [
        {
          "output_type": "stream",
          "name": "stdout",
          "text": [
            "max iterations :  401\n",
            "1\n",
            "2\n",
            "3\n",
            "4\n",
            "5\n",
            "6\n",
            "7\n",
            "8\n",
            "9\n",
            "10\n",
            "11\n",
            "12\n",
            "13\n",
            "14\n",
            "15\n",
            "16\n",
            "17\n",
            "18\n",
            "19\n",
            "20\n",
            "21\n",
            "22\n",
            "23\n",
            "24\n",
            "25\n",
            "26\n",
            "27\n",
            "28\n",
            "29\n",
            "30\n",
            "31\n",
            "32\n",
            "33\n",
            "34\n",
            "35\n",
            "36\n",
            "37\n",
            "38\n",
            "39\n",
            "40\n",
            "41\n",
            "42\n",
            "43\n",
            "44\n",
            "45\n",
            "46\n",
            "47\n",
            "48\n",
            "49\n",
            "50\n",
            "51\n",
            "52\n",
            "53\n",
            "54\n",
            "55\n",
            "56\n",
            "57\n",
            "58\n",
            "59\n",
            "60\n",
            "61\n",
            "62\n",
            "63\n",
            "64\n",
            "65\n",
            "66\n",
            "67\n",
            "68\n",
            "69\n",
            "70\n",
            "71\n",
            "72\n",
            "73\n",
            "74\n",
            "75\n",
            "76\n",
            "77\n",
            "78\n",
            "79\n",
            "80\n",
            "81\n",
            "82\n",
            "83\n",
            "84\n",
            "85\n",
            "86\n",
            "87\n",
            "88\n",
            "89\n",
            "90\n",
            "91\n",
            "92\n",
            "93\n",
            "94\n",
            "95\n",
            "96\n",
            "97\n",
            "98\n",
            "99\n",
            "100\n",
            "101\n",
            "102\n",
            "103\n",
            "104\n",
            "105\n",
            "106\n",
            "107\n",
            "108\n",
            "109\n",
            "110\n",
            "111\n",
            "112\n",
            "113\n",
            "114\n",
            "115\n",
            "116\n",
            "117\n",
            "118\n",
            "119\n",
            "120\n",
            "121\n",
            "122\n",
            "123\n",
            "124\n",
            "125\n",
            "126\n",
            "127\n",
            "128\n",
            "129\n",
            "130\n",
            "131\n",
            "132\n",
            "133\n",
            "134\n",
            "135\n",
            "136\n",
            "137\n",
            "138\n",
            "139\n",
            "140\n",
            "141\n",
            "142\n",
            "143\n",
            "144\n",
            "145\n",
            "146\n",
            "147\n",
            "148\n",
            "149\n",
            "150\n",
            "151\n",
            "152\n",
            "153\n",
            "154\n",
            "155\n",
            "156\n",
            "157\n",
            "158\n",
            "159\n",
            "160\n",
            "161\n",
            "162\n",
            "163\n",
            "164\n",
            "165\n",
            "166\n",
            "167\n",
            "168\n",
            "169\n",
            "170\n",
            "171\n",
            "172\n",
            "173\n",
            "174\n",
            "175\n",
            "176\n",
            "177\n",
            "178\n",
            "179\n",
            "180\n",
            "181\n",
            "182\n",
            "183\n",
            "184\n",
            "185\n",
            "186\n",
            "187\n",
            "188\n",
            "189\n",
            "190\n",
            "191\n",
            "192\n",
            "193\n",
            "194\n",
            "195\n",
            "196\n",
            "197\n",
            "198\n",
            "199\n",
            "200\n",
            "201\n",
            "202\n",
            "203\n",
            "204\n",
            "205\n",
            "206\n",
            "207\n",
            "208\n",
            "209\n",
            "210\n",
            "211\n",
            "212\n",
            "213\n",
            "214\n",
            "215\n",
            "216\n",
            "217\n",
            "218\n",
            "219\n",
            "220\n",
            "221\n",
            "222\n",
            "223\n",
            "224\n",
            "225\n",
            "226\n",
            "227\n",
            "228\n",
            "229\n",
            "230\n",
            "231\n",
            "232\n",
            "233\n",
            "234\n",
            "235\n",
            "236\n",
            "237\n",
            "238\n",
            "239\n",
            "240\n",
            "241\n",
            "242\n",
            "243\n",
            "244\n",
            "245\n",
            "246\n",
            "247\n",
            "248\n",
            "249\n",
            "250\n",
            "251\n",
            "252\n",
            "253\n",
            "254\n",
            "255\n",
            "256\n",
            "257\n",
            "258\n",
            "259\n",
            "260\n",
            "261\n",
            "262\n",
            "263\n",
            "264\n",
            "265\n",
            "266\n",
            "267\n",
            "268\n",
            "269\n",
            "270\n",
            "271\n",
            "272\n",
            "273\n",
            "274\n",
            "275\n",
            "276\n",
            "277\n",
            "278\n",
            "279\n",
            "280\n",
            "281\n",
            "282\n",
            "283\n",
            "284\n",
            "285\n",
            "286\n",
            "287\n",
            "288\n",
            "289\n",
            "290\n",
            "291\n",
            "292\n",
            "293\n",
            "294\n",
            "295\n",
            "296\n",
            "297\n",
            "298\n",
            "299\n",
            "300\n",
            "301\n",
            "302\n",
            "303\n",
            "304\n",
            "305\n",
            "306\n",
            "307\n",
            "308\n",
            "309\n",
            "310\n",
            "311\n",
            "312\n",
            "313\n",
            "314\n",
            "315\n",
            "316\n",
            "317\n",
            "318\n",
            "319\n",
            "320\n",
            "321\n",
            "322\n",
            "323\n",
            "324\n",
            "325\n",
            "326\n",
            "327\n",
            "328\n",
            "329\n",
            "330\n",
            "331\n",
            "332\n",
            "333\n",
            "334\n",
            "335\n",
            "336\n",
            "337\n",
            "338\n",
            "339\n",
            "340\n",
            "341\n",
            "342\n",
            "343\n",
            "344\n",
            "345\n",
            "346\n",
            "347\n",
            "348\n",
            "349\n",
            "350\n",
            "351\n",
            "352\n",
            "353\n",
            "354\n",
            "355\n",
            "356\n",
            "357\n",
            "358\n",
            "359\n",
            "360\n",
            "361\n",
            "362\n",
            "363\n",
            "364\n",
            "365\n",
            "366\n",
            "367\n",
            "368\n",
            "369\n",
            "370\n",
            "371\n",
            "372\n",
            "373\n",
            "374\n",
            "375\n",
            "376\n",
            "377\n",
            "378\n",
            "379\n",
            "380\n",
            "381\n",
            "382\n",
            "383\n",
            "384\n",
            "385\n",
            "386\n",
            "387\n",
            "388\n",
            "389\n",
            "390\n",
            "391\n",
            "392\n",
            "393\n",
            "394\n",
            "395\n",
            "396\n",
            "397\n",
            "398\n",
            "399\n",
            "400\n"
          ]
        }
      ],
      "source": [
        "dict_1 = {'paper_id': [], 'abstract': [], 'body_text': [], 'authors': [], 'title': [], 'journal': [], 'abstract_summary': []}\n",
        "print(\"max iterations : \",len(ids))\n",
        "for i in range(1,len(ids)):\n",
        "    print(i)\n",
        "    h = Entrez.efetch(db='pubmed', id=ids[i], rettype='medline', retmode='json')\n",
        "    records = Medline.parse(h)\n",
        "\n",
        "    token = append_records(records)\n",
        "    dict_1[\"paper_id\"] = dict_1[\"paper_id\"]+token[\"paper_id\"]\n",
        "    dict_1[\"abstract\"] = dict_1[\"abstract\"] + token[\"abstract\"]\n",
        "    dict_1[\"body_text\"] =  dict_1[\"body_text\"] +token[\"body_text\"]\n",
        "    dict_1[\"authors\"] = dict_1[\"authors\"] + token[\"authors\"]\n",
        "    dict_1[\"title\"] =dict_1[\"title\"] + token[\"title\"]\n",
        "    dict_1[\"journal\"] =dict_1[\"journal\"] +token[\"journal\"]\n",
        "    dict_1[\"abstract_summary\"]=dict_1[\"abstract_summary\"]+token[\"abstract_summary\"]"
      ]
    },
    {
      "cell_type": "code",
      "execution_count": null,
      "metadata": {
        "id": "uX3e5AC_Ldkk"
      },
      "outputs": [],
      "source": [
        "df_covid = pd.DataFrame(dict_1, columns=['paper_id', 'abstract', 'body_text', 'authors', 'title', 'journal', 'abstract_summary'])\n"
      ]
    },
    {
      "cell_type": "code",
      "execution_count": null,
      "metadata": {
        "colab": {
          "base_uri": "https://localhost:8080/"
        },
        "id": "PMa3rqKRyd6J",
        "outputId": "d263fd24-70cb-4572-b098-d8b513e191a9"
      },
      "outputs": [
        {
          "output_type": "stream",
          "name": "stdout",
          "text": [
            "<class 'pandas.core.frame.DataFrame'>\n",
            "RangeIndex: 8020000 entries, 0 to 8019999\n",
            "Data columns (total 7 columns):\n",
            " #   Column            Dtype \n",
            "---  ------            ----- \n",
            " 0   paper_id          object\n",
            " 1   abstract          object\n",
            " 2   body_text         object\n",
            " 3   authors           object\n",
            " 4   title             object\n",
            " 5   journal           object\n",
            " 6   abstract_summary  object\n",
            "dtypes: object(7)\n",
            "memory usage: 428.3+ MB\n"
          ]
        }
      ],
      "source": [
        "df_covid.info()"
      ]
    },
    {
      "cell_type": "markdown",
      "metadata": {
        "id": "wyhzey_1GdWq"
      },
      "source": [
        "## Some feature engineering\n",
        "Adding word count columns for both abstract and body_text can be useful parameters later:"
      ]
    },
    {
      "cell_type": "code",
      "execution_count": null,
      "metadata": {
        "colab": {
          "base_uri": "https://localhost:8080/",
          "height": 496
        },
        "id": "xqMfwG5pGdWr",
        "outputId": "5431a515-2925-4a9e-c745-c984429c3c14"
      },
      "outputs": [
        {
          "output_type": "execute_result",
          "data": {
            "text/plain": [
              "   paper_id                                           abstract  \\\n",
              "0  35354105  RATIONALE: Belief in COVID-19 conspiracy theor...   \n",
              "1  35354100  OBJECTIVES: Worldwide the COVID-19 pandemic ha...   \n",
              "2  35354017  INTRODUCTION: Pericardiocentesis is a high-ris...   \n",
              "3  35354014  INTRODUCTION: Nationally, there has been more ...   \n",
              "4  35354013  INTRODUCTION: Healthcare patterns change durin...   \n",
              "\n",
              "                                           body_text        authors title  \\\n",
              "0  RATIONALE: Belief in COVID-19 conspiracy theor...  van Mulukom V     A   \n",
              "1  OBJECTIVES: Worldwide the COVID-19 pandemic ha...      Qudsieh S     T   \n",
              "2  INTRODUCTION: Pericardiocentesis is a high-ris...         Lord S     A   \n",
              "3  INTRODUCTION: Nationally, there has been more ...         Mann E     R   \n",
              "4  INTRODUCTION: Healthcare patterns change durin...      Savioli G     I   \n",
              "\n",
              "           journal                                   abstract_summary  \\\n",
              "0  Journal Article   RATIONALE: Belief in COVID-19 conspiracy<br>t...   \n",
              "1  Journal Article   OBJECTIVES: Worldwide the COVID-19 pandemic<b...   \n",
              "2  Journal Article   INTRODUCTION: Pericardiocentesis is a<br>high...   \n",
              "3  Journal Article   INTRODUCTION: Nationally, there has been more...   \n",
              "4  Journal Article   INTRODUCTION: Healthcare patterns change<br>d...   \n",
              "\n",
              "   abstract_word_count  body_word_count  body_unique_words  \n",
              "0                  205              205                132  \n",
              "1                  326              326                178  \n",
              "2                  142              142                106  \n",
              "3                  248              248                183  \n",
              "4                  359              359                208  "
            ],
            "text/html": [
              "\n",
              "  <div id=\"df-ee80bc86-9ae0-4fb6-b129-bc63e5dbfa87\">\n",
              "    <div class=\"colab-df-container\">\n",
              "      <div>\n",
              "<style scoped>\n",
              "    .dataframe tbody tr th:only-of-type {\n",
              "        vertical-align: middle;\n",
              "    }\n",
              "\n",
              "    .dataframe tbody tr th {\n",
              "        vertical-align: top;\n",
              "    }\n",
              "\n",
              "    .dataframe thead th {\n",
              "        text-align: right;\n",
              "    }\n",
              "</style>\n",
              "<table border=\"1\" class=\"dataframe\">\n",
              "  <thead>\n",
              "    <tr style=\"text-align: right;\">\n",
              "      <th></th>\n",
              "      <th>paper_id</th>\n",
              "      <th>abstract</th>\n",
              "      <th>body_text</th>\n",
              "      <th>authors</th>\n",
              "      <th>title</th>\n",
              "      <th>journal</th>\n",
              "      <th>abstract_summary</th>\n",
              "      <th>abstract_word_count</th>\n",
              "      <th>body_word_count</th>\n",
              "      <th>body_unique_words</th>\n",
              "    </tr>\n",
              "  </thead>\n",
              "  <tbody>\n",
              "    <tr>\n",
              "      <th>0</th>\n",
              "      <td>35354105</td>\n",
              "      <td>RATIONALE: Belief in COVID-19 conspiracy theor...</td>\n",
              "      <td>RATIONALE: Belief in COVID-19 conspiracy theor...</td>\n",
              "      <td>van Mulukom V</td>\n",
              "      <td>A</td>\n",
              "      <td>Journal Article</td>\n",
              "      <td>RATIONALE: Belief in COVID-19 conspiracy&lt;br&gt;t...</td>\n",
              "      <td>205</td>\n",
              "      <td>205</td>\n",
              "      <td>132</td>\n",
              "    </tr>\n",
              "    <tr>\n",
              "      <th>1</th>\n",
              "      <td>35354100</td>\n",
              "      <td>OBJECTIVES: Worldwide the COVID-19 pandemic ha...</td>\n",
              "      <td>OBJECTIVES: Worldwide the COVID-19 pandemic ha...</td>\n",
              "      <td>Qudsieh S</td>\n",
              "      <td>T</td>\n",
              "      <td>Journal Article</td>\n",
              "      <td>OBJECTIVES: Worldwide the COVID-19 pandemic&lt;b...</td>\n",
              "      <td>326</td>\n",
              "      <td>326</td>\n",
              "      <td>178</td>\n",
              "    </tr>\n",
              "    <tr>\n",
              "      <th>2</th>\n",
              "      <td>35354017</td>\n",
              "      <td>INTRODUCTION: Pericardiocentesis is a high-ris...</td>\n",
              "      <td>INTRODUCTION: Pericardiocentesis is a high-ris...</td>\n",
              "      <td>Lord S</td>\n",
              "      <td>A</td>\n",
              "      <td>Journal Article</td>\n",
              "      <td>INTRODUCTION: Pericardiocentesis is a&lt;br&gt;high...</td>\n",
              "      <td>142</td>\n",
              "      <td>142</td>\n",
              "      <td>106</td>\n",
              "    </tr>\n",
              "    <tr>\n",
              "      <th>3</th>\n",
              "      <td>35354014</td>\n",
              "      <td>INTRODUCTION: Nationally, there has been more ...</td>\n",
              "      <td>INTRODUCTION: Nationally, there has been more ...</td>\n",
              "      <td>Mann E</td>\n",
              "      <td>R</td>\n",
              "      <td>Journal Article</td>\n",
              "      <td>INTRODUCTION: Nationally, there has been more...</td>\n",
              "      <td>248</td>\n",
              "      <td>248</td>\n",
              "      <td>183</td>\n",
              "    </tr>\n",
              "    <tr>\n",
              "      <th>4</th>\n",
              "      <td>35354013</td>\n",
              "      <td>INTRODUCTION: Healthcare patterns change durin...</td>\n",
              "      <td>INTRODUCTION: Healthcare patterns change durin...</td>\n",
              "      <td>Savioli G</td>\n",
              "      <td>I</td>\n",
              "      <td>Journal Article</td>\n",
              "      <td>INTRODUCTION: Healthcare patterns change&lt;br&gt;d...</td>\n",
              "      <td>359</td>\n",
              "      <td>359</td>\n",
              "      <td>208</td>\n",
              "    </tr>\n",
              "  </tbody>\n",
              "</table>\n",
              "</div>\n",
              "      <button class=\"colab-df-convert\" onclick=\"convertToInteractive('df-ee80bc86-9ae0-4fb6-b129-bc63e5dbfa87')\"\n",
              "              title=\"Convert this dataframe to an interactive table.\"\n",
              "              style=\"display:none;\">\n",
              "        \n",
              "  <svg xmlns=\"http://www.w3.org/2000/svg\" height=\"24px\"viewBox=\"0 0 24 24\"\n",
              "       width=\"24px\">\n",
              "    <path d=\"M0 0h24v24H0V0z\" fill=\"none\"/>\n",
              "    <path d=\"M18.56 5.44l.94 2.06.94-2.06 2.06-.94-2.06-.94-.94-2.06-.94 2.06-2.06.94zm-11 1L8.5 8.5l.94-2.06 2.06-.94-2.06-.94L8.5 2.5l-.94 2.06-2.06.94zm10 10l.94 2.06.94-2.06 2.06-.94-2.06-.94-.94-2.06-.94 2.06-2.06.94z\"/><path d=\"M17.41 7.96l-1.37-1.37c-.4-.4-.92-.59-1.43-.59-.52 0-1.04.2-1.43.59L10.3 9.45l-7.72 7.72c-.78.78-.78 2.05 0 2.83L4 21.41c.39.39.9.59 1.41.59.51 0 1.02-.2 1.41-.59l7.78-7.78 2.81-2.81c.8-.78.8-2.07 0-2.86zM5.41 20L4 18.59l7.72-7.72 1.47 1.35L5.41 20z\"/>\n",
              "  </svg>\n",
              "      </button>\n",
              "      \n",
              "  <style>\n",
              "    .colab-df-container {\n",
              "      display:flex;\n",
              "      flex-wrap:wrap;\n",
              "      gap: 12px;\n",
              "    }\n",
              "\n",
              "    .colab-df-convert {\n",
              "      background-color: #E8F0FE;\n",
              "      border: none;\n",
              "      border-radius: 50%;\n",
              "      cursor: pointer;\n",
              "      display: none;\n",
              "      fill: #1967D2;\n",
              "      height: 32px;\n",
              "      padding: 0 0 0 0;\n",
              "      width: 32px;\n",
              "    }\n",
              "\n",
              "    .colab-df-convert:hover {\n",
              "      background-color: #E2EBFA;\n",
              "      box-shadow: 0px 1px 2px rgba(60, 64, 67, 0.3), 0px 1px 3px 1px rgba(60, 64, 67, 0.15);\n",
              "      fill: #174EA6;\n",
              "    }\n",
              "\n",
              "    [theme=dark] .colab-df-convert {\n",
              "      background-color: #3B4455;\n",
              "      fill: #D2E3FC;\n",
              "    }\n",
              "\n",
              "    [theme=dark] .colab-df-convert:hover {\n",
              "      background-color: #434B5C;\n",
              "      box-shadow: 0px 1px 3px 1px rgba(0, 0, 0, 0.15);\n",
              "      filter: drop-shadow(0px 1px 2px rgba(0, 0, 0, 0.3));\n",
              "      fill: #FFFFFF;\n",
              "    }\n",
              "  </style>\n",
              "\n",
              "      <script>\n",
              "        const buttonEl =\n",
              "          document.querySelector('#df-ee80bc86-9ae0-4fb6-b129-bc63e5dbfa87 button.colab-df-convert');\n",
              "        buttonEl.style.display =\n",
              "          google.colab.kernel.accessAllowed ? 'block' : 'none';\n",
              "\n",
              "        async function convertToInteractive(key) {\n",
              "          const element = document.querySelector('#df-ee80bc86-9ae0-4fb6-b129-bc63e5dbfa87');\n",
              "          const dataTable =\n",
              "            await google.colab.kernel.invokeFunction('convertToInteractive',\n",
              "                                                     [key], {});\n",
              "          if (!dataTable) return;\n",
              "\n",
              "          const docLinkHtml = 'Like what you see? Visit the ' +\n",
              "            '<a target=\"_blank\" href=https://colab.research.google.com/notebooks/data_table.ipynb>data table notebook</a>'\n",
              "            + ' to learn more about interactive tables.';\n",
              "          element.innerHTML = '';\n",
              "          dataTable['output_type'] = 'display_data';\n",
              "          await google.colab.output.renderOutput(dataTable, element);\n",
              "          const docLink = document.createElement('div');\n",
              "          docLink.innerHTML = docLinkHtml;\n",
              "          element.appendChild(docLink);\n",
              "        }\n",
              "      </script>\n",
              "    </div>\n",
              "  </div>\n",
              "  "
            ]
          },
          "metadata": {},
          "execution_count": 38
        }
      ],
      "source": [
        "df_covid['abstract_word_count'] = df_covid['abstract'].apply(lambda x: len(x.strip().split()))  # word count in abstract\n",
        "df_covid['body_word_count'] = df_covid['body_text'].apply(lambda x: len(x.strip().split()))  # word count in body\n",
        "df_covid['body_unique_words']=df_covid['body_text'].apply(lambda x:len(set(str(x).split())))  # number of unique words in body\n",
        "df_covid.head()"
      ]
    },
    {
      "cell_type": "code",
      "execution_count": null,
      "metadata": {
        "colab": {
          "base_uri": "https://localhost:8080/"
        },
        "id": "VTiWLFCgGdWs",
        "outputId": "1580c970-5bdc-40a5-9203-4027f3be71f0"
      },
      "outputs": [
        {
          "output_type": "execute_result",
          "data": {
            "text/plain": [
              "count     8020000\n",
              "unique      34857\n",
              "top              \n",
              "freq       899469\n",
              "Name: abstract, dtype: object"
            ]
          },
          "metadata": {},
          "execution_count": 39
        }
      ],
      "source": [
        "df_covid['abstract'].describe(include='all')"
      ]
    },
    {
      "cell_type": "markdown",
      "metadata": {
        "id": "G4vZi8C1GdWs"
      },
      "source": [
        "## Handle Possible Duplicates"
      ]
    },
    {
      "cell_type": "markdown",
      "metadata": {
        "id": "d027A619GdWt"
      },
      "source": [
        "When we look at the unique values above, we can see that there are duplicates. It may have caused because of author submiting the article to multiple journals. Let's remove the duplicats from our dataset:"
      ]
    },
    {
      "cell_type": "code",
      "execution_count": null,
      "metadata": {
        "colab": {
          "base_uri": "https://localhost:8080/"
        },
        "id": "aFhtgIDDGdWy",
        "outputId": "4c9418ff-9c45-4467-9cfe-00cf231d1f71"
      },
      "outputs": [
        {
          "output_type": "execute_result",
          "data": {
            "text/plain": [
              "count                                                 34857\n",
              "unique                                                34857\n",
              "top       RATIONALE: Belief in COVID-19 conspiracy theor...\n",
              "freq                                                      1\n",
              "Name: abstract, dtype: object"
            ]
          },
          "metadata": {},
          "execution_count": 40
        }
      ],
      "source": [
        "df_covid.drop_duplicates(['abstract', 'body_text'], inplace=True)\n",
        "df_covid['abstract'].describe(include='all')"
      ]
    },
    {
      "cell_type": "code",
      "execution_count": null,
      "metadata": {
        "colab": {
          "base_uri": "https://localhost:8080/"
        },
        "id": "Ec-Q6244GdWz",
        "outputId": "59da6615-42ee-49ce-edca-af71263d31b4"
      },
      "outputs": [
        {
          "output_type": "execute_result",
          "data": {
            "text/plain": [
              "count                                                 34857\n",
              "unique                                                34857\n",
              "top       RATIONALE: Belief in COVID-19 conspiracy theor...\n",
              "freq                                                      1\n",
              "Name: body_text, dtype: object"
            ]
          },
          "metadata": {},
          "execution_count": 41
        }
      ],
      "source": [
        "df_covid['body_text'].describe(include='all')"
      ]
    },
    {
      "cell_type": "markdown",
      "metadata": {
        "id": "gQwDVNJUGdW0"
      },
      "source": [
        "It looks like we didn't have duplicates. Instead, it was articles without Abstracts."
      ]
    },
    {
      "cell_type": "markdown",
      "metadata": {
        "id": "ftrYJq7xGdW0"
      },
      "source": [
        "## Take a Look at the Data:"
      ]
    },
    {
      "cell_type": "code",
      "execution_count": null,
      "metadata": {
        "colab": {
          "base_uri": "https://localhost:8080/",
          "height": 300
        },
        "id": "nrL1T8XrGdW2",
        "outputId": "67ab947f-17af-4a1d-f54e-987105ebdbb1"
      },
      "outputs": [
        {
          "output_type": "execute_result",
          "data": {
            "text/plain": [
              "       abstract_word_count  body_word_count  body_unique_words\n",
              "count         34857.000000     34857.000000       34857.000000\n",
              "mean            221.513010       221.513010         141.074705\n",
              "std              81.434678        81.434678          42.470432\n",
              "min               0.000000         0.000000           0.000000\n",
              "25%             169.000000       169.000000         114.000000\n",
              "50%             221.000000       221.000000         142.000000\n",
              "75%             263.000000       263.000000         166.000000\n",
              "max            2078.000000      2078.000000         721.000000"
            ],
            "text/html": [
              "\n",
              "  <div id=\"df-9f0b57a0-d9cd-4808-9ddd-07285258d9fb\">\n",
              "    <div class=\"colab-df-container\">\n",
              "      <div>\n",
              "<style scoped>\n",
              "    .dataframe tbody tr th:only-of-type {\n",
              "        vertical-align: middle;\n",
              "    }\n",
              "\n",
              "    .dataframe tbody tr th {\n",
              "        vertical-align: top;\n",
              "    }\n",
              "\n",
              "    .dataframe thead th {\n",
              "        text-align: right;\n",
              "    }\n",
              "</style>\n",
              "<table border=\"1\" class=\"dataframe\">\n",
              "  <thead>\n",
              "    <tr style=\"text-align: right;\">\n",
              "      <th></th>\n",
              "      <th>abstract_word_count</th>\n",
              "      <th>body_word_count</th>\n",
              "      <th>body_unique_words</th>\n",
              "    </tr>\n",
              "  </thead>\n",
              "  <tbody>\n",
              "    <tr>\n",
              "      <th>count</th>\n",
              "      <td>34857.000000</td>\n",
              "      <td>34857.000000</td>\n",
              "      <td>34857.000000</td>\n",
              "    </tr>\n",
              "    <tr>\n",
              "      <th>mean</th>\n",
              "      <td>221.513010</td>\n",
              "      <td>221.513010</td>\n",
              "      <td>141.074705</td>\n",
              "    </tr>\n",
              "    <tr>\n",
              "      <th>std</th>\n",
              "      <td>81.434678</td>\n",
              "      <td>81.434678</td>\n",
              "      <td>42.470432</td>\n",
              "    </tr>\n",
              "    <tr>\n",
              "      <th>min</th>\n",
              "      <td>0.000000</td>\n",
              "      <td>0.000000</td>\n",
              "      <td>0.000000</td>\n",
              "    </tr>\n",
              "    <tr>\n",
              "      <th>25%</th>\n",
              "      <td>169.000000</td>\n",
              "      <td>169.000000</td>\n",
              "      <td>114.000000</td>\n",
              "    </tr>\n",
              "    <tr>\n",
              "      <th>50%</th>\n",
              "      <td>221.000000</td>\n",
              "      <td>221.000000</td>\n",
              "      <td>142.000000</td>\n",
              "    </tr>\n",
              "    <tr>\n",
              "      <th>75%</th>\n",
              "      <td>263.000000</td>\n",
              "      <td>263.000000</td>\n",
              "      <td>166.000000</td>\n",
              "    </tr>\n",
              "    <tr>\n",
              "      <th>max</th>\n",
              "      <td>2078.000000</td>\n",
              "      <td>2078.000000</td>\n",
              "      <td>721.000000</td>\n",
              "    </tr>\n",
              "  </tbody>\n",
              "</table>\n",
              "</div>\n",
              "      <button class=\"colab-df-convert\" onclick=\"convertToInteractive('df-9f0b57a0-d9cd-4808-9ddd-07285258d9fb')\"\n",
              "              title=\"Convert this dataframe to an interactive table.\"\n",
              "              style=\"display:none;\">\n",
              "        \n",
              "  <svg xmlns=\"http://www.w3.org/2000/svg\" height=\"24px\"viewBox=\"0 0 24 24\"\n",
              "       width=\"24px\">\n",
              "    <path d=\"M0 0h24v24H0V0z\" fill=\"none\"/>\n",
              "    <path d=\"M18.56 5.44l.94 2.06.94-2.06 2.06-.94-2.06-.94-.94-2.06-.94 2.06-2.06.94zm-11 1L8.5 8.5l.94-2.06 2.06-.94-2.06-.94L8.5 2.5l-.94 2.06-2.06.94zm10 10l.94 2.06.94-2.06 2.06-.94-2.06-.94-.94-2.06-.94 2.06-2.06.94z\"/><path d=\"M17.41 7.96l-1.37-1.37c-.4-.4-.92-.59-1.43-.59-.52 0-1.04.2-1.43.59L10.3 9.45l-7.72 7.72c-.78.78-.78 2.05 0 2.83L4 21.41c.39.39.9.59 1.41.59.51 0 1.02-.2 1.41-.59l7.78-7.78 2.81-2.81c.8-.78.8-2.07 0-2.86zM5.41 20L4 18.59l7.72-7.72 1.47 1.35L5.41 20z\"/>\n",
              "  </svg>\n",
              "      </button>\n",
              "      \n",
              "  <style>\n",
              "    .colab-df-container {\n",
              "      display:flex;\n",
              "      flex-wrap:wrap;\n",
              "      gap: 12px;\n",
              "    }\n",
              "\n",
              "    .colab-df-convert {\n",
              "      background-color: #E8F0FE;\n",
              "      border: none;\n",
              "      border-radius: 50%;\n",
              "      cursor: pointer;\n",
              "      display: none;\n",
              "      fill: #1967D2;\n",
              "      height: 32px;\n",
              "      padding: 0 0 0 0;\n",
              "      width: 32px;\n",
              "    }\n",
              "\n",
              "    .colab-df-convert:hover {\n",
              "      background-color: #E2EBFA;\n",
              "      box-shadow: 0px 1px 2px rgba(60, 64, 67, 0.3), 0px 1px 3px 1px rgba(60, 64, 67, 0.15);\n",
              "      fill: #174EA6;\n",
              "    }\n",
              "\n",
              "    [theme=dark] .colab-df-convert {\n",
              "      background-color: #3B4455;\n",
              "      fill: #D2E3FC;\n",
              "    }\n",
              "\n",
              "    [theme=dark] .colab-df-convert:hover {\n",
              "      background-color: #434B5C;\n",
              "      box-shadow: 0px 1px 3px 1px rgba(0, 0, 0, 0.15);\n",
              "      filter: drop-shadow(0px 1px 2px rgba(0, 0, 0, 0.3));\n",
              "      fill: #FFFFFF;\n",
              "    }\n",
              "  </style>\n",
              "\n",
              "      <script>\n",
              "        const buttonEl =\n",
              "          document.querySelector('#df-9f0b57a0-d9cd-4808-9ddd-07285258d9fb button.colab-df-convert');\n",
              "        buttonEl.style.display =\n",
              "          google.colab.kernel.accessAllowed ? 'block' : 'none';\n",
              "\n",
              "        async function convertToInteractive(key) {\n",
              "          const element = document.querySelector('#df-9f0b57a0-d9cd-4808-9ddd-07285258d9fb');\n",
              "          const dataTable =\n",
              "            await google.colab.kernel.invokeFunction('convertToInteractive',\n",
              "                                                     [key], {});\n",
              "          if (!dataTable) return;\n",
              "\n",
              "          const docLinkHtml = 'Like what you see? Visit the ' +\n",
              "            '<a target=\"_blank\" href=https://colab.research.google.com/notebooks/data_table.ipynb>data table notebook</a>'\n",
              "            + ' to learn more about interactive tables.';\n",
              "          element.innerHTML = '';\n",
              "          dataTable['output_type'] = 'display_data';\n",
              "          await google.colab.output.renderOutput(dataTable, element);\n",
              "          const docLink = document.createElement('div');\n",
              "          docLink.innerHTML = docLinkHtml;\n",
              "          element.appendChild(docLink);\n",
              "        }\n",
              "      </script>\n",
              "    </div>\n",
              "  </div>\n",
              "  "
            ]
          },
          "metadata": {},
          "execution_count": 42
        }
      ],
      "source": [
        "df_covid.describe()"
      ]
    },
    {
      "cell_type": "markdown",
      "metadata": {
        "id": "eQlh6HQWGdW2"
      },
      "source": [
        "### dataset size reduction :"
      ]
    },
    {
      "cell_type": "markdown",
      "metadata": {
        "id": "iaZ2a5csuio7"
      },
      "source": [
        "we can use only a part of our dataset to speedup the execution"
      ]
    },
    {
      "cell_type": "code",
      "execution_count": null,
      "metadata": {
        "id": "UsE-eeIFGdW3"
      },
      "outputs": [],
      "source": [
        "#df = df_covid.sample(4000, random_state=42)\n",
        "df = df_covid"
      ]
    },
    {
      "cell_type": "markdown",
      "metadata": {
        "id": "cXlRaj-3GdW3"
      },
      "source": [
        "### Delete Null values   :"
      ]
    },
    {
      "cell_type": "markdown",
      "metadata": {
        "id": "FPzUrJjrGdW3"
      },
      "source": [
        "Now that we have our dataset loaded, we need to clean-up the text to improve any clustering or classification efforts. First, let's drop Null vales:"
      ]
    },
    {
      "cell_type": "code",
      "execution_count": null,
      "metadata": {
        "colab": {
          "base_uri": "https://localhost:8080/"
        },
        "id": "Cu-44fZZGdW3",
        "outputId": "e2defb25-d7f6-46a0-ca11-280dc3a5b6bf"
      },
      "outputs": [
        {
          "output_type": "stream",
          "name": "stdout",
          "text": [
            "<class 'pandas.core.frame.DataFrame'>\n",
            "Int64Index: 34857 entries, 0 to 8019999\n",
            "Data columns (total 10 columns):\n",
            " #   Column               Non-Null Count  Dtype \n",
            "---  ------               --------------  ----- \n",
            " 0   paper_id             34857 non-null  object\n",
            " 1   abstract             34857 non-null  object\n",
            " 2   body_text            34857 non-null  object\n",
            " 3   authors              34857 non-null  object\n",
            " 4   title                34857 non-null  object\n",
            " 5   journal              34857 non-null  object\n",
            " 6   abstract_summary     34857 non-null  object\n",
            " 7   abstract_word_count  34857 non-null  int64 \n",
            " 8   body_word_count      34857 non-null  int64 \n",
            " 9   body_unique_words    34857 non-null  int64 \n",
            "dtypes: int64(3), object(7)\n",
            "memory usage: 2.9+ MB\n"
          ]
        }
      ],
      "source": [
        "df[\"body_text\"].dropna(inplace=True)\n",
        "df.info()"
      ]
    },
    {
      "cell_type": "markdown",
      "metadata": {
        "id": "MFMzbLH4GdW4"
      },
      "source": [
        "### Handling multiple languages\n",
        "Next we are going to determine the language of each paper in the dataframe. Not all of the sources are English and the language needs to be identified so that we know how handle these instances"
      ]
    },
    {
      "cell_type": "code",
      "execution_count": null,
      "metadata": {
        "colab": {
          "base_uri": "https://localhost:8080/"
        },
        "id": "bcE7FbU9GdW4",
        "outputId": "d3c8daa0-00b0-46a9-85d7-17470b5bdef0"
      },
      "outputs": [
        {
          "output_type": "stream",
          "name": "stdout",
          "text": [
            "Requirement already satisfied: tqdm in /usr/local/lib/python3.7/dist-packages (4.63.0)\n",
            "Requirement already satisfied: langdetect in /usr/local/lib/python3.7/dist-packages (1.0.9)\n",
            "Requirement already satisfied: six in /usr/local/lib/python3.7/dist-packages (from langdetect) (1.15.0)\n"
          ]
        },
        {
          "output_type": "stream",
          "name": "stderr",
          "text": [
            "100%|██████████| 34857/34857 [03:27<00:00, 168.21it/s]\n"
          ]
        }
      ],
      "source": [
        "!pip install tqdm\n",
        "import tqdm\n",
        "!pip install langdetect\n",
        "import langdetect\n",
        "from tqdm import tqdm\n",
        "from langdetect import detect\n",
        "from langdetect import DetectorFactory\n",
        "\n",
        "# set seed\n",
        "DetectorFactory.seed = 0\n",
        "# hold label - language\n",
        "languages = []\n",
        "# go through each text\n",
        "for ii in tqdm(range(0,len(df))):\n",
        "    # split by space into list, take the first x intex, join with space\n",
        "    text = df.iloc[ii]['body_text'].split(\" \")\n",
        "    lang = \"en\"\n",
        "    try:\n",
        "        if len(text) > 50:\n",
        "            lang = detect(\" \".join(text[:50]))\n",
        "        elif len(text) > 0:\n",
        "            lang = detect(\" \".join(text[:len(text)]))\n",
        "    # ught... beginning of the document was not in a good format\n",
        "    except Exception as e:\n",
        "        all_words = set(text)\n",
        "        try:\n",
        "            lang = detect(\" \".join(all_words))\n",
        "        # what!! :( let's see if we can find any text in abstract...\n",
        "        except Exception as e: \n",
        "            try:\n",
        "                # let's try to label it through the abstract then\n",
        "                lang = detect(df.iloc[ii]['abstract_summary'])\n",
        "            except Exception as e:\n",
        "                lang = \"unknown\"\n",
        "                pass\n",
        "    # get the language    \n",
        "    languages.append(lang)"
      ]
    },
    {
      "cell_type": "code",
      "execution_count": null,
      "metadata": {
        "colab": {
          "base_uri": "https://localhost:8080/"
        },
        "id": "NemBurd8GdW5",
        "outputId": "0e12e54b-cb0e-4f84-b2d0-6a1c4dece43e"
      },
      "outputs": [
        {
          "output_type": "stream",
          "name": "stdout",
          "text": [
            "Total: 34857\n",
            "\n",
            "{'ca': 1,\n",
            " 'cy': 1,\n",
            " 'de': 2,\n",
            " 'en': 34799,\n",
            " 'es': 16,\n",
            " 'fr': 3,\n",
            " 'hu': 28,\n",
            " 'it': 5,\n",
            " 'so': 1,\n",
            " 'unknown': 1}\n"
          ]
        }
      ],
      "source": [
        "from pprint import pprint\n",
        "languages_dict = {}\n",
        "for lang in set(languages):\n",
        "    languages_dict[lang] = languages.count(lang) \n",
        "print(\"Total: {}\\n\".format(len(languages)))\n",
        "pprint(languages_dict)"
      ]
    },
    {
      "cell_type": "markdown",
      "metadata": {
        "id": "pU5nSAiPGdW5"
      },
      "source": [
        "Lets take a look at the language distribution in the dataset"
      ]
    },
    {
      "cell_type": "code",
      "execution_count": null,
      "metadata": {
        "colab": {
          "base_uri": "https://localhost:8080/",
          "height": 282
        },
        "id": "0R5MVtGdGdW5",
        "outputId": "2540a649-8c3d-45e0-f324-0df5bff13e1b"
      },
      "outputs": [
        {
          "output_type": "display_data",
          "data": {
            "text/plain": [
              "<Figure size 432x288 with 1 Axes>"
            ],
            "image/png": "[encoded data removed]"
          },
          "metadata": {
            "needs_background": "light"
          }
        }
      ],
      "source": [
        "df['language'] = languages\n",
        "plt.bar(range(len(languages_dict)), list(languages_dict.values()), align='center')\n",
        "plt.xticks(range(len(languages_dict)), list(languages_dict.keys()))\n",
        "plt.title(\"Distribution of Languages in Dataset\")\n",
        "plt.show()"
      ]
    },
    {
      "cell_type": "markdown",
      "metadata": {
        "id": "D1y8e4mXGdW6"
      },
      "source": [
        "\n",
        "We will be dropping any language that is not English. Attempting to translate foreign texts gave the following problems:\n",
        "\n",
        "1. API calls were limited\n",
        "\n",
        "2. Translating the language may not carry over the true semantic meaning of the text\n"
      ]
    },
    {
      "cell_type": "code",
      "execution_count": null,
      "metadata": {
        "colab": {
          "base_uri": "https://localhost:8080/"
        },
        "id": "0VaqWVbFGdW6",
        "outputId": "871680d8-2f3c-4a81-ee45-ff77abb59654"
      },
      "outputs": [
        {
          "output_type": "stream",
          "name": "stdout",
          "text": [
            "<class 'pandas.core.frame.DataFrame'>\n",
            "Int64Index: 34799 entries, 0 to 8019999\n",
            "Data columns (total 11 columns):\n",
            " #   Column               Non-Null Count  Dtype \n",
            "---  ------               --------------  ----- \n",
            " 0   paper_id             34799 non-null  object\n",
            " 1   abstract             34799 non-null  object\n",
            " 2   body_text            34799 non-null  object\n",
            " 3   authors              34799 non-null  object\n",
            " 4   title                34799 non-null  object\n",
            " 5   journal              34799 non-null  object\n",
            " 6   abstract_summary     34799 non-null  object\n",
            " 7   abstract_word_count  34799 non-null  int64 \n",
            " 8   body_word_count      34799 non-null  int64 \n",
            " 9   body_unique_words    34799 non-null  int64 \n",
            " 10  language             34799 non-null  object\n",
            "dtypes: int64(3), object(8)\n",
            "memory usage: 3.2+ MB\n"
          ]
        }
      ],
      "source": [
        "df = df[df['language'] == 'en'] \n",
        "df.info()"
      ]
    },
    {
      "cell_type": "code",
      "execution_count": null,
      "metadata": {
        "id": "cnysIJgzGdW6",
        "outputId": "a346d027-f780-451b-f41e-f1e0ebb55599",
        "colab": {
          "base_uri": "https://localhost:8080/"
        }
      },
      "outputs": [
        {
          "output_type": "stream",
          "name": "stdout",
          "text": [
            "\u001b[38;5;2m✔ Download and installation successful\u001b[0m\n",
            "You can now load the package via spacy.load('en_core_web_lg')\n"
          ]
        }
      ],
      "source": [
        "#Download the spacy bio parser\n",
        "from IPython.utils import io\n",
        "with io.capture_output() as captured:\n",
        "  !pip install https://s3-us-west-2.amazonaws.com/ai2-s2-scispacy/releases/v0.4.0/en_core_sci_lg-0.4.0.tar.gz\n",
        "#----------------------------\n",
        "import spacy.cli\n",
        "spacy.cli.download(\"en_core_web_lg\")\n",
        "import en_core_web_lg\n",
        "nlp = en_core_web_lg.load()\n",
        "#----------------------------\n",
        "#NLP \n",
        "import spacy\n",
        "from spacy.lang.en.stop_words import STOP_WORDS\n",
        "import en_core_sci_lg  # model downloaded in previous step"
      ]
    },
    {
      "cell_type": "markdown",
      "metadata": {
        "id": "0Z6kHFa5GdW7"
      },
      "source": [
        "### Stopwords\n",
        "\n",
        "Part of the preprocessing will be finding and removing stopwords (common words that will act as noise in the clustering step)."
      ]
    },
    {
      "cell_type": "code",
      "execution_count": null,
      "metadata": {
        "colab": {
          "base_uri": "https://localhost:8080/"
        },
        "id": "Jr5l1GxpGdW7",
        "outputId": "9646d5ca-c5f7-4d72-a2fb-c1c587dab961"
      },
      "outputs": [
        {
          "output_type": "stream",
          "name": "stdout",
          "text": [
            "----------------------------------\n",
            "stopwords  :\n",
            "['myself', 'because', 'while', 'hence', 'she', 'toward', 'ten', 'there', 'eight', 'bottom', 'beside', 'itself', 'had', 'will', 'several', 'us', 'been', 'your', 'whether', 'should', 'part', 'somewhere', 'through', 'moreover', 'one', 'former', 'side', 'everywhere', 'thence', 'seems', 'none', 'those', 'after', '‘s', 'take', 'get', 'no', 'otherwise', 'so', 'or', 'however', 'below', 'less', '‘d', 'our', 'meanwhile', 'something', 'nevertheless', \"'ve\", '‘ve', 'seeming', 'whom', 'are', 'top', 'just', 'either', 'do', 'by', 'same', 'was', '’m', 'before', 'latter', '‘m', 'sixty', 'others', 'up', 'towards', 'go', 'the', 'off', 'due', 'put', 'anyhow', 'quite', 'also', 'may', 'him', 'n’t', 'them', 'used', 'down', 'few', 'often', 'now', 'rather', 'please', 'when', 'which', \"'m\", \"'s\", 'own', 'her', 'regarding', 'further', '’d', 'neither', 'nowhere', 'always', 'seemed', 'become', \"n't\", 'about', 'as', 'thus', 'since', 'back', '’ve', 'whenever', \"'re\", 'afterwards', 'without', 'did', 'twelve', 'doing', 'this', 'ours', 'eleven', 'seem', 'if', 'these', 'wherein', 'six', 'first', 'latterly', 'twenty', 'yours', 'were', 'five', 'everything', 'keep', 'mostly', 'cannot', 'in', 'yourselves', 'two', 'why', 'yourself', 'me', 'even', 'both', 'sometimes', 'that', 'have', 'fifty', '‘re', 'third', 'an', 'full', 'at', 'fifteen', 'except', 'onto', '‘ll', 'themselves', 'much', 'being', 'almost', 'therein', 'anyway', 'becomes', 'could', 'forty', 'here', 'say', 'became', 'behind', 'herein', 'mine', 'call', 'than', 'else', 'make', 'other', 'everyone', 'he', 'of', 'does', 'formerly', 'per', 'whoever', 'thereby', 'enough', 'next', 'whither', 'many', 'every', 'together', 'too', 'last', 'might', 'via', 'ever', 'am', 'but', 'along', \"'ll\", 'empty', 'whose', 'once', 'out', 'whatever', '’re', 'indeed', 'beforehand', 'therefore', 'who', 'alone', 'really', 'front', 'how', 'wherever', 'another', 'we', 'during', 'thereafter', 'amount', 'namely', 'within', 'besides', 'into', 'herself', 'some', 'hereby', 'nothing', 'nobody', 'whereas', 'noone', 'above', 'various', 'himself', 'elsewhere', 'on', 'is', 'their', 'can', 'to', 'ourselves', 'thereupon', 'hundred', 'anywhere', 'see', 'serious', 'has', 'be', 'over', 'i', 'under', 'whence', 'most', 'until', 'ca', 'his', 'whereafter', 'very', 'least', 'give', 'three', 'around', 'hers', 'n‘t', 'still', 'well', 'you', 'already', \"'d\", 'never', 'with', '’s', 'my', 'upon', 'unless', 'all', 'perhaps', 'amongst', 'such', 'it', 'what', 'not', 'though', 'they', 'where', 'sometime', '’ll', 'beyond', 'using', 'would', 'although', 'show', 'any', 'more', 'across', 'whole', 'hereupon', 'anyone', 'whereupon', 'between', 'made', 'again', 'each', 'must', 'becoming', 'hereafter', 'from', 'move', 'among', 'somehow', 'someone', 'throughout', 'for', 'thru', 'and', 're', 'only', 'a', 'yet', 'whereby', 'against', 'its', 'name', 'nine', 'anything', 'four', 'done', 'then', 'nor']\n",
            "----------------------------------\n",
            "punctuations  : \n",
            "!\"#$%&'()*+,-./:;<=>?@[\\]^_`{|}~\n"
          ]
        }
      ],
      "source": [
        "import string\n",
        "#punctuations\n",
        "punctuations = string.punctuation\n",
        "#stopwords\n",
        "stopwords = list(STOP_WORDS)\n",
        "print(\"----------------------------------\")\n",
        "print(\"stopwords  :\" )\n",
        "print(stopwords)\n",
        "print(\"----------------------------------\")\n",
        "print(\"punctuations  : \")\n",
        "print(punctuations)"
      ]
    },
    {
      "cell_type": "markdown",
      "metadata": {
        "id": "cGzgeg9dGdW8"
      },
      "source": [
        "Now the above stopwords are used in everyday english text. Research papers will often frequently use words that don't actually contribute to the meaning and are not considered everyday stopwords.\n"
      ]
    },
    {
      "cell_type": "code",
      "execution_count": null,
      "metadata": {
        "id": "jIWi1cUBGdW8"
      },
      "outputs": [],
      "source": [
        "custom_stop_words = [\n",
        "    'doi', 'preprint', 'copyright', 'peer', 'reviewed', 'org', 'https', 'et', 'al', 'author', 'figure', \n",
        "    'rights', 'reserved', 'permission', 'used', 'using', 'biorxiv', 'medrxiv', 'license', 'fig', 'fig.', \n",
        "    'al.', 'Elsevier', 'PMC', 'CZI', 'www' , 'the' , 'THE' ,\"19\" ,\"-\"]\n",
        "\n",
        "for w in custom_stop_words:\n",
        "    if w not in stopwords:\n",
        "        stopwords.append(w)"
      ]
    },
    {
      "cell_type": "markdown",
      "metadata": {
        "id": "Vqksra4AGdW8"
      },
      "source": [
        "### Next lets create a function that will process the text data for us. \n",
        "For this purpose we will be using the spacy library. This function will convert text to lower case, remove punctuation, and find and remove stopwords. For the parser, we will use en_core_sci_lg. This is a model for processing biomedical, scientific or clinical text."
      ]
    },
    {
      "cell_type": "markdown",
      "metadata": {
        "id": "1_pK3UIauipA"
      },
      "source": [
        "### Stop words , Ponctuation and Lemmatizing"
      ]
    },
    {
      "cell_type": "code",
      "execution_count": null,
      "metadata": {
        "id": "VXz-7XXYGdW9",
        "colab": {
          "base_uri": "https://localhost:8080/"
        },
        "outputId": "ae63e9e8-b7ca-4106-8a1d-7a8a6cf96333"
      },
      "outputs": [
        {
          "output_type": "stream",
          "name": "stderr",
          "text": [
            "/usr/local/lib/python3.7/dist-packages/ipykernel_launcher.py:17: SettingWithCopyWarning: \n",
            "A value is trying to be set on a copy of a slice from a DataFrame.\n",
            "Try using .loc[row_indexer,col_indexer] = value instead\n",
            "\n",
            "See the caveats in the documentation: https://pandas.pydata.org/pandas-docs/stable/user_guide/indexing.html#returning-a-view-versus-a-copy\n"
          ]
        }
      ],
      "source": [
        "import spacy\n",
        "import re\n",
        "nlp = en_core_web_lg.load()\n",
        "def spacy_process(texte):\n",
        "\n",
        "    #URLs\n",
        "    string = re.sub(r\"https?://\\S+|www.\\S+\",'',texte)\n",
        "    #html \n",
        "    string = re.sub(r'<.*?>','',string)\n",
        "    #Numbers\n",
        "    string = re.sub(r'[0-9]+','',string) \n",
        "\n",
        "    mytokens = nlp(string)\n",
        "    mytokens2 = [word.lemma_.lower().strip() for word in mytokens if word.pos_ != \"PUNCT\" and word.text.lower() not in stopwords and word.text.lower() not in punctuations]\n",
        "    mytokens2 = \" \".join([i for i in mytokens2])\n",
        "    return mytokens2\n",
        "df[\"processed_text\"] = df[\"body_text\"].apply(spacy_process)"
      ]
    },
    {
      "cell_type": "code",
      "source": [
        "#df[\"processed_text\"].to_csv(\"text_cleaned.csv\")"
      ],
      "metadata": {
        "id": "RNCjwjtVZ2Mq"
      },
      "execution_count": null,
      "outputs": []
    },
    {
      "cell_type": "code",
      "source": [
        "#df.to_csv(\"text_cleaned_all_df.csv\")"
      ],
      "metadata": {
        "id": "LYl0_UhObjt0"
      },
      "execution_count": null,
      "outputs": []
    },
    {
      "cell_type": "markdown",
      "metadata": {
        "id": "MUa3hW_rGdW-"
      },
      "source": [
        "### Exemple for lemmatizing with Lemma"
      ]
    },
    {
      "cell_type": "markdown",
      "metadata": {
        "id": "zCXI53AOuipA"
      },
      "source": [
        "it doesn't detect the conjugaison of the verbs so we need to use an other lemmmatizer"
      ]
    },
    {
      "cell_type": "code",
      "execution_count": null,
      "metadata": {
        "colab": {
          "base_uri": "https://localhost:8080/"
        },
        "id": "o4KDJ0KqGdW-",
        "outputId": "e0f32b08-3456-4cc1-eb1e-ac2efb942923"
      },
      "outputs": [
        {
          "output_type": "stream",
          "name": "stdout",
          "text": [
            "vaccinations  : vaccination\n",
            "vaccination  : vaccination\n",
            "vaccinating  : vaccinate\n",
            "vaccinated  : vaccinate\n"
          ]
        }
      ],
      "source": [
        "test1 = spacy_process(\"vaccinations\")\n",
        "test2 = spacy_process(\"vaccination\")\n",
        "test3 = spacy_process(\"vaccinating\")\n",
        "test4 = spacy_process(\"vaccinated\")\n",
        "print(\"vaccinations  :\" , test1)\n",
        "print(\"vaccination  :\" ,test2)\n",
        "print(\"vaccinating  :\" ,test3)\n",
        "print(\"vaccinated  :\" ,test4)"
      ]
    },
    {
      "cell_type": "code",
      "execution_count": null,
      "metadata": {
        "id": "PZye4CoHGdXA"
      },
      "outputs": [],
      "source": [
        "# processed_text = df[\"processed_text\"]\n",
        "# body_text = df[\"body_text\"]\n",
        "\n",
        "# for i in range(0,10):\n",
        "#     print(\"body_text[i]\")\n",
        "#     print(body_text[i])\n",
        "#     print(\"\")\n",
        "#     print(\"processed_text[i]\")\n",
        "#     print(processed_text[i])\n",
        "#     print(\"\")\n",
        "#     print(\"----------------------------------------------------------\")\n",
        "\n"
      ]
    },
    {
      "cell_type": "markdown",
      "metadata": {
        "id": "ADe6yiQUGdXK"
      },
      "source": [
        "### Let's take a look at word count in the papers"
      ]
    },
    {
      "cell_type": "code",
      "execution_count": null,
      "metadata": {
        "id": "QkCHs7YzGdXL"
      },
      "outputs": [],
      "source": [
        "import seaborn as sns"
      ]
    },
    {
      "cell_type": "code",
      "execution_count": null,
      "metadata": {
        "colab": {
          "base_uri": "https://localhost:8080/",
          "height": 497
        },
        "id": "CEkqhYSoGdXL",
        "outputId": "6e1f3add-937f-463d-b1aa-1bd2153b7319"
      },
      "outputs": [
        {
          "output_type": "stream",
          "name": "stderr",
          "text": [
            "/usr/local/lib/python3.7/dist-packages/seaborn/distributions.py:2619: FutureWarning: `distplot` is a deprecated function and will be removed in a future version. Please adapt your code to use either `displot` (a figure-level function with similar flexibility) or `histplot` (an axes-level function for histograms).\n",
            "  warnings.warn(msg, FutureWarning)\n"
          ]
        },
        {
          "output_type": "execute_result",
          "data": {
            "text/plain": [
              "count    34799.000000\n",
              "mean       221.467916\n",
              "std         81.082509\n",
              "min          0.000000\n",
              "25%        169.000000\n",
              "50%        221.000000\n",
              "75%        263.000000\n",
              "max       2078.000000\n",
              "Name: body_word_count, dtype: float64"
            ]
          },
          "metadata": {},
          "execution_count": 59
        },
        {
          "output_type": "display_data",
          "data": {
            "text/plain": [
              "<Figure size 432x288 with 1 Axes>"
            ],
            "image/png": "[encoded data removed]"
          },
          "metadata": {
            "needs_background": "light"
          }
        }
      ],
      "source": [
        "sns.distplot(df['body_word_count'])\n",
        "df['body_word_count'].describe()"
      ]
    },
    {
      "cell_type": "code",
      "execution_count": null,
      "metadata": {
        "colab": {
          "base_uri": "https://localhost:8080/",
          "height": 493
        },
        "id": "UJl1yVcGGdXL",
        "outputId": "972d012a-93be-41d1-daae-23c68170bca7"
      },
      "outputs": [
        {
          "output_type": "stream",
          "name": "stderr",
          "text": [
            "/usr/local/lib/python3.7/dist-packages/seaborn/distributions.py:2619: FutureWarning: `distplot` is a deprecated function and will be removed in a future version. Please adapt your code to use either `displot` (a figure-level function with similar flexibility) or `histplot` (an axes-level function for histograms).\n",
            "  warnings.warn(msg, FutureWarning)\n"
          ]
        },
        {
          "output_type": "execute_result",
          "data": {
            "text/plain": [
              "count    34799.000000\n",
              "mean       141.038248\n",
              "std         42.175838\n",
              "min          0.000000\n",
              "25%        114.000000\n",
              "50%        142.000000\n",
              "75%        166.000000\n",
              "max        721.000000\n",
              "Name: body_unique_words, dtype: float64"
            ]
          },
          "metadata": {},
          "execution_count": 60
        },
        {
          "output_type": "display_data",
          "data": {
            "text/plain": [
              "<Figure size 432x288 with 1 Axes>"
            ],
            "image/png": "[encoded data removed]"
          },
          "metadata": {
            "needs_background": "light"
          }
        }
      ],
      "source": [
        "sns.distplot(df['body_unique_words'])\n",
        "df['body_unique_words'].describe()"
      ]
    },
    {
      "cell_type": "markdown",
      "source": [
        ""
      ],
      "metadata": {
        "id": "alMrEpYlvnwn"
      }
    },
    {
      "cell_type": "markdown",
      "source": [
        "# Vectorisation"
      ],
      "metadata": {
        "id": "U-brgMCWewo-"
      }
    },
    {
      "cell_type": "code",
      "source": [
        ""
      ],
      "metadata": {
        "id": "z7SqqC7p2SIR"
      },
      "execution_count": null,
      "outputs": []
    },
    {
      "cell_type": "code",
      "source": [
        "from google.colab import drive\n",
        "drive.mount('/content/drive')"
      ],
      "metadata": {
        "id": "6gkvfHkD2Spn",
        "outputId": "286afa68-a708-48cd-88dc-ec8d6db5c6f9",
        "colab": {
          "base_uri": "https://localhost:8080/"
        }
      },
      "execution_count": null,
      "outputs": [
        {
          "output_type": "stream",
          "name": "stdout",
          "text": [
            "Mounted at /content/drive\n"
          ]
        }
      ]
    },
    {
      "cell_type": "code",
      "source": [
        "import pandas as pd\n",
        "\n",
        "df = pd.read_csv(\"/content/text_cleaned.csv\")\n",
        "df.drop(columns=\"Unnamed: 0\",inplace=True)\n",
        "df.dropna(inplace=True)"
      ],
      "metadata": {
        "id": "4YGzci-ikDEr",
        "colab": {
          "base_uri": "https://localhost:8080/",
          "height": 397
        },
        "outputId": "6082a62f-1a7d-4a4b-be44-7f4ece1dea80"
      },
      "execution_count": null,
      "outputs": [
        {
          "output_type": "error",
          "ename": "FileNotFoundError",
          "evalue": "ignored",
          "traceback": [
            "\u001b[0;31m---------------------------------------------------------------------------\u001b[0m",
            "\u001b[0;31mFileNotFoundError\u001b[0m                         Traceback (most recent call last)",
            "\u001b[0;32m<ipython-input-1-fc90c99f15c5>\u001b[0m in \u001b[0;36m<module>\u001b[0;34m()\u001b[0m\n\u001b[1;32m      1\u001b[0m \u001b[0;32mimport\u001b[0m \u001b[0mpandas\u001b[0m \u001b[0;32mas\u001b[0m \u001b[0mpd\u001b[0m\u001b[0;34m\u001b[0m\u001b[0;34m\u001b[0m\u001b[0m\n\u001b[1;32m      2\u001b[0m \u001b[0;34m\u001b[0m\u001b[0m\n\u001b[0;32m----> 3\u001b[0;31m \u001b[0mdf\u001b[0m \u001b[0;34m=\u001b[0m \u001b[0mpd\u001b[0m\u001b[0;34m.\u001b[0m\u001b[0mread_csv\u001b[0m\u001b[0;34m(\u001b[0m\u001b[0;34m\"/content/text_cleaned.csv\"\u001b[0m\u001b[0;34m)\u001b[0m\u001b[0;34m\u001b[0m\u001b[0;34m\u001b[0m\u001b[0m\n\u001b[0m\u001b[1;32m      4\u001b[0m \u001b[0mdf\u001b[0m\u001b[0;34m.\u001b[0m\u001b[0mdrop\u001b[0m\u001b[0;34m(\u001b[0m\u001b[0mcolumns\u001b[0m\u001b[0;34m=\u001b[0m\u001b[0;34m\"Unnamed: 0\"\u001b[0m\u001b[0;34m,\u001b[0m\u001b[0minplace\u001b[0m\u001b[0;34m=\u001b[0m\u001b[0;32mTrue\u001b[0m\u001b[0;34m)\u001b[0m\u001b[0;34m\u001b[0m\u001b[0;34m\u001b[0m\u001b[0m\n\u001b[1;32m      5\u001b[0m \u001b[0mdf\u001b[0m\u001b[0;34m.\u001b[0m\u001b[0mdropna\u001b[0m\u001b[0;34m(\u001b[0m\u001b[0minplace\u001b[0m\u001b[0;34m=\u001b[0m\u001b[0;32mTrue\u001b[0m\u001b[0;34m)\u001b[0m\u001b[0;34m\u001b[0m\u001b[0;34m\u001b[0m\u001b[0m\n",
            "\u001b[0;32m/usr/local/lib/python3.7/dist-packages/pandas/util/_decorators.py\u001b[0m in \u001b[0;36mwrapper\u001b[0;34m(*args, **kwargs)\u001b[0m\n\u001b[1;32m    309\u001b[0m                     \u001b[0mstacklevel\u001b[0m\u001b[0;34m=\u001b[0m\u001b[0mstacklevel\u001b[0m\u001b[0;34m,\u001b[0m\u001b[0;34m\u001b[0m\u001b[0;34m\u001b[0m\u001b[0m\n\u001b[1;32m    310\u001b[0m                 )\n\u001b[0;32m--> 311\u001b[0;31m             \u001b[0;32mreturn\u001b[0m \u001b[0mfunc\u001b[0m\u001b[0;34m(\u001b[0m\u001b[0;34m*\u001b[0m\u001b[0margs\u001b[0m\u001b[0;34m,\u001b[0m \u001b[0;34m**\u001b[0m\u001b[0mkwargs\u001b[0m\u001b[0;34m)\u001b[0m\u001b[0;34m\u001b[0m\u001b[0;34m\u001b[0m\u001b[0m\n\u001b[0m\u001b[1;32m    312\u001b[0m \u001b[0;34m\u001b[0m\u001b[0m\n\u001b[1;32m    313\u001b[0m         \u001b[0;32mreturn\u001b[0m \u001b[0mwrapper\u001b[0m\u001b[0;34m\u001b[0m\u001b[0;34m\u001b[0m\u001b[0m\n",
            "\u001b[0;32m/usr/local/lib/python3.7/dist-packages/pandas/io/parsers/readers.py\u001b[0m in \u001b[0;36mread_csv\u001b[0;34m(filepath_or_buffer, sep, delimiter, header, names, index_col, usecols, squeeze, prefix, mangle_dupe_cols, dtype, engine, converters, true_values, false_values, skipinitialspace, skiprows, skipfooter, nrows, na_values, keep_default_na, na_filter, verbose, skip_blank_lines, parse_dates, infer_datetime_format, keep_date_col, date_parser, dayfirst, cache_dates, iterator, chunksize, compression, thousands, decimal, lineterminator, quotechar, quoting, doublequote, escapechar, comment, encoding, encoding_errors, dialect, error_bad_lines, warn_bad_lines, on_bad_lines, delim_whitespace, low_memory, memory_map, float_precision, storage_options)\u001b[0m\n\u001b[1;32m    584\u001b[0m     \u001b[0mkwds\u001b[0m\u001b[0;34m.\u001b[0m\u001b[0mupdate\u001b[0m\u001b[0;34m(\u001b[0m\u001b[0mkwds_defaults\u001b[0m\u001b[0;34m)\u001b[0m\u001b[0;34m\u001b[0m\u001b[0;34m\u001b[0m\u001b[0m\n\u001b[1;32m    585\u001b[0m \u001b[0;34m\u001b[0m\u001b[0m\n\u001b[0;32m--> 586\u001b[0;31m     \u001b[0;32mreturn\u001b[0m \u001b[0m_read\u001b[0m\u001b[0;34m(\u001b[0m\u001b[0mfilepath_or_buffer\u001b[0m\u001b[0;34m,\u001b[0m \u001b[0mkwds\u001b[0m\u001b[0;34m)\u001b[0m\u001b[0;34m\u001b[0m\u001b[0;34m\u001b[0m\u001b[0m\n\u001b[0m\u001b[1;32m    587\u001b[0m \u001b[0;34m\u001b[0m\u001b[0m\n\u001b[1;32m    588\u001b[0m \u001b[0;34m\u001b[0m\u001b[0m\n",
            "\u001b[0;32m/usr/local/lib/python3.7/dist-packages/pandas/io/parsers/readers.py\u001b[0m in \u001b[0;36m_read\u001b[0;34m(filepath_or_buffer, kwds)\u001b[0m\n\u001b[1;32m    480\u001b[0m \u001b[0;34m\u001b[0m\u001b[0m\n\u001b[1;32m    481\u001b[0m     \u001b[0;31m# Create the parser.\u001b[0m\u001b[0;34m\u001b[0m\u001b[0;34m\u001b[0m\u001b[0;34m\u001b[0m\u001b[0m\n\u001b[0;32m--> 482\u001b[0;31m     \u001b[0mparser\u001b[0m \u001b[0;34m=\u001b[0m \u001b[0mTextFileReader\u001b[0m\u001b[0;34m(\u001b[0m\u001b[0mfilepath_or_buffer\u001b[0m\u001b[0;34m,\u001b[0m \u001b[0;34m**\u001b[0m\u001b[0mkwds\u001b[0m\u001b[0;34m)\u001b[0m\u001b[0;34m\u001b[0m\u001b[0;34m\u001b[0m\u001b[0m\n\u001b[0m\u001b[1;32m    483\u001b[0m \u001b[0;34m\u001b[0m\u001b[0m\n\u001b[1;32m    484\u001b[0m     \u001b[0;32mif\u001b[0m \u001b[0mchunksize\u001b[0m \u001b[0;32mor\u001b[0m \u001b[0miterator\u001b[0m\u001b[0;34m:\u001b[0m\u001b[0;34m\u001b[0m\u001b[0;34m\u001b[0m\u001b[0m\n",
            "\u001b[0;32m/usr/local/lib/python3.7/dist-packages/pandas/io/parsers/readers.py\u001b[0m in \u001b[0;36m__init__\u001b[0;34m(self, f, engine, **kwds)\u001b[0m\n\u001b[1;32m    809\u001b[0m             \u001b[0mself\u001b[0m\u001b[0;34m.\u001b[0m\u001b[0moptions\u001b[0m\u001b[0;34m[\u001b[0m\u001b[0;34m\"has_index_names\"\u001b[0m\u001b[0;34m]\u001b[0m \u001b[0;34m=\u001b[0m \u001b[0mkwds\u001b[0m\u001b[0;34m[\u001b[0m\u001b[0;34m\"has_index_names\"\u001b[0m\u001b[0;34m]\u001b[0m\u001b[0;34m\u001b[0m\u001b[0;34m\u001b[0m\u001b[0m\n\u001b[1;32m    810\u001b[0m \u001b[0;34m\u001b[0m\u001b[0m\n\u001b[0;32m--> 811\u001b[0;31m         \u001b[0mself\u001b[0m\u001b[0;34m.\u001b[0m\u001b[0m_engine\u001b[0m \u001b[0;34m=\u001b[0m \u001b[0mself\u001b[0m\u001b[0;34m.\u001b[0m\u001b[0m_make_engine\u001b[0m\u001b[0;34m(\u001b[0m\u001b[0mself\u001b[0m\u001b[0;34m.\u001b[0m\u001b[0mengine\u001b[0m\u001b[0;34m)\u001b[0m\u001b[0;34m\u001b[0m\u001b[0;34m\u001b[0m\u001b[0m\n\u001b[0m\u001b[1;32m    812\u001b[0m \u001b[0;34m\u001b[0m\u001b[0m\n\u001b[1;32m    813\u001b[0m     \u001b[0;32mdef\u001b[0m \u001b[0mclose\u001b[0m\u001b[0;34m(\u001b[0m\u001b[0mself\u001b[0m\u001b[0;34m)\u001b[0m\u001b[0;34m:\u001b[0m\u001b[0;34m\u001b[0m\u001b[0;34m\u001b[0m\u001b[0m\n",
            "\u001b[0;32m/usr/local/lib/python3.7/dist-packages/pandas/io/parsers/readers.py\u001b[0m in \u001b[0;36m_make_engine\u001b[0;34m(self, engine)\u001b[0m\n\u001b[1;32m   1038\u001b[0m             )\n\u001b[1;32m   1039\u001b[0m         \u001b[0;31m# error: Too many arguments for \"ParserBase\"\u001b[0m\u001b[0;34m\u001b[0m\u001b[0;34m\u001b[0m\u001b[0;34m\u001b[0m\u001b[0m\n\u001b[0;32m-> 1040\u001b[0;31m         \u001b[0;32mreturn\u001b[0m \u001b[0mmapping\u001b[0m\u001b[0;34m[\u001b[0m\u001b[0mengine\u001b[0m\u001b[0;34m]\u001b[0m\u001b[0;34m(\u001b[0m\u001b[0mself\u001b[0m\u001b[0;34m.\u001b[0m\u001b[0mf\u001b[0m\u001b[0;34m,\u001b[0m \u001b[0;34m**\u001b[0m\u001b[0mself\u001b[0m\u001b[0;34m.\u001b[0m\u001b[0moptions\u001b[0m\u001b[0;34m)\u001b[0m  \u001b[0;31m# type: ignore[call-arg]\u001b[0m\u001b[0;34m\u001b[0m\u001b[0;34m\u001b[0m\u001b[0m\n\u001b[0m\u001b[1;32m   1041\u001b[0m \u001b[0;34m\u001b[0m\u001b[0m\n\u001b[1;32m   1042\u001b[0m     \u001b[0;32mdef\u001b[0m \u001b[0m_failover_to_python\u001b[0m\u001b[0;34m(\u001b[0m\u001b[0mself\u001b[0m\u001b[0;34m)\u001b[0m\u001b[0;34m:\u001b[0m\u001b[0;34m\u001b[0m\u001b[0;34m\u001b[0m\u001b[0m\n",
            "\u001b[0;32m/usr/local/lib/python3.7/dist-packages/pandas/io/parsers/c_parser_wrapper.py\u001b[0m in \u001b[0;36m__init__\u001b[0;34m(self, src, **kwds)\u001b[0m\n\u001b[1;32m     49\u001b[0m \u001b[0;34m\u001b[0m\u001b[0m\n\u001b[1;32m     50\u001b[0m         \u001b[0;31m# open handles\u001b[0m\u001b[0;34m\u001b[0m\u001b[0;34m\u001b[0m\u001b[0;34m\u001b[0m\u001b[0m\n\u001b[0;32m---> 51\u001b[0;31m         \u001b[0mself\u001b[0m\u001b[0;34m.\u001b[0m\u001b[0m_open_handles\u001b[0m\u001b[0;34m(\u001b[0m\u001b[0msrc\u001b[0m\u001b[0;34m,\u001b[0m \u001b[0mkwds\u001b[0m\u001b[0;34m)\u001b[0m\u001b[0;34m\u001b[0m\u001b[0;34m\u001b[0m\u001b[0m\n\u001b[0m\u001b[1;32m     52\u001b[0m         \u001b[0;32massert\u001b[0m \u001b[0mself\u001b[0m\u001b[0;34m.\u001b[0m\u001b[0mhandles\u001b[0m \u001b[0;32mis\u001b[0m \u001b[0;32mnot\u001b[0m \u001b[0;32mNone\u001b[0m\u001b[0;34m\u001b[0m\u001b[0;34m\u001b[0m\u001b[0m\n\u001b[1;32m     53\u001b[0m \u001b[0;34m\u001b[0m\u001b[0m\n",
            "\u001b[0;32m/usr/local/lib/python3.7/dist-packages/pandas/io/parsers/base_parser.py\u001b[0m in \u001b[0;36m_open_handles\u001b[0;34m(self, src, kwds)\u001b[0m\n\u001b[1;32m    227\u001b[0m             \u001b[0mmemory_map\u001b[0m\u001b[0;34m=\u001b[0m\u001b[0mkwds\u001b[0m\u001b[0;34m.\u001b[0m\u001b[0mget\u001b[0m\u001b[0;34m(\u001b[0m\u001b[0;34m\"memory_map\"\u001b[0m\u001b[0;34m,\u001b[0m \u001b[0;32mFalse\u001b[0m\u001b[0;34m)\u001b[0m\u001b[0;34m,\u001b[0m\u001b[0;34m\u001b[0m\u001b[0;34m\u001b[0m\u001b[0m\n\u001b[1;32m    228\u001b[0m             \u001b[0mstorage_options\u001b[0m\u001b[0;34m=\u001b[0m\u001b[0mkwds\u001b[0m\u001b[0;34m.\u001b[0m\u001b[0mget\u001b[0m\u001b[0;34m(\u001b[0m\u001b[0;34m\"storage_options\"\u001b[0m\u001b[0;34m,\u001b[0m \u001b[0;32mNone\u001b[0m\u001b[0;34m)\u001b[0m\u001b[0;34m,\u001b[0m\u001b[0;34m\u001b[0m\u001b[0;34m\u001b[0m\u001b[0m\n\u001b[0;32m--> 229\u001b[0;31m             \u001b[0merrors\u001b[0m\u001b[0;34m=\u001b[0m\u001b[0mkwds\u001b[0m\u001b[0;34m.\u001b[0m\u001b[0mget\u001b[0m\u001b[0;34m(\u001b[0m\u001b[0;34m\"encoding_errors\"\u001b[0m\u001b[0;34m,\u001b[0m \u001b[0;34m\"strict\"\u001b[0m\u001b[0;34m)\u001b[0m\u001b[0;34m,\u001b[0m\u001b[0;34m\u001b[0m\u001b[0;34m\u001b[0m\u001b[0m\n\u001b[0m\u001b[1;32m    230\u001b[0m         )\n\u001b[1;32m    231\u001b[0m \u001b[0;34m\u001b[0m\u001b[0m\n",
            "\u001b[0;32m/usr/local/lib/python3.7/dist-packages/pandas/io/common.py\u001b[0m in \u001b[0;36mget_handle\u001b[0;34m(path_or_buf, mode, encoding, compression, memory_map, is_text, errors, storage_options)\u001b[0m\n\u001b[1;32m    705\u001b[0m                 \u001b[0mencoding\u001b[0m\u001b[0;34m=\u001b[0m\u001b[0mioargs\u001b[0m\u001b[0;34m.\u001b[0m\u001b[0mencoding\u001b[0m\u001b[0;34m,\u001b[0m\u001b[0;34m\u001b[0m\u001b[0;34m\u001b[0m\u001b[0m\n\u001b[1;32m    706\u001b[0m                 \u001b[0merrors\u001b[0m\u001b[0;34m=\u001b[0m\u001b[0merrors\u001b[0m\u001b[0;34m,\u001b[0m\u001b[0;34m\u001b[0m\u001b[0;34m\u001b[0m\u001b[0m\n\u001b[0;32m--> 707\u001b[0;31m                 \u001b[0mnewline\u001b[0m\u001b[0;34m=\u001b[0m\u001b[0;34m\"\"\u001b[0m\u001b[0;34m,\u001b[0m\u001b[0;34m\u001b[0m\u001b[0;34m\u001b[0m\u001b[0m\n\u001b[0m\u001b[1;32m    708\u001b[0m             )\n\u001b[1;32m    709\u001b[0m         \u001b[0;32melse\u001b[0m\u001b[0;34m:\u001b[0m\u001b[0;34m\u001b[0m\u001b[0;34m\u001b[0m\u001b[0m\n",
            "\u001b[0;31mFileNotFoundError\u001b[0m: [Errno 2] No such file or directory: '/content/text_cleaned.csv'"
          ]
        }
      ]
    },
    {
      "cell_type": "code",
      "source": [
        "from sklearn.feature_extraction.text import TfidfVectorizer\n",
        "def vectorize(text):\n",
        "    \n",
        "    global vectorizer \n",
        "    X = vectorizer.fit_transform(text)\n",
        "    return X\n",
        "#-----------------------------------------------------------\n",
        "text = df['processed_text'].values\n",
        "vectorizer = TfidfVectorizer(max_features= 2 ** 12)\n",
        "X = vectorize(text)\n",
        "X.shape"
      ],
      "metadata": {
        "colab": {
          "base_uri": "https://localhost:8080/"
        },
        "id": "HGd1qp_QfQ53",
        "outputId": "e54a10a3-6747-4e31-c6a5-96ce882869ae"
      },
      "execution_count": null,
      "outputs": [
        {
          "output_type": "execute_result",
          "data": {
            "text/plain": [
              "(34798, 4096)"
            ]
          },
          "metadata": {},
          "execution_count": 4
        }
      ]
    },
    {
      "cell_type": "code",
      "source": [
        "# on doit vérifier si le vectorizer prend 2**12 premiers mots ou bien par nombre d'occurences \n",
        "all_terms_tfidf = vectorizer.get_feature_names()"
      ],
      "metadata": {
        "colab": {
          "base_uri": "https://localhost:8080/"
        },
        "id": "QfEYbfXV0y7U",
        "outputId": "cb100e22-5332-45f3-85b6-dadc136e5dd6"
      },
      "execution_count": null,
      "outputs": [
        {
          "output_type": "stream",
          "name": "stderr",
          "text": [
            "/usr/local/lib/python3.7/dist-packages/sklearn/utils/deprecation.py:87: FutureWarning: Function get_feature_names is deprecated; get_feature_names is deprecated in 1.0 and will be removed in 1.2. Please use get_feature_names_out instead.\n",
            "  warnings.warn(msg, category=FutureWarning)\n"
          ]
        }
      ]
    },
    {
      "cell_type": "markdown",
      "source": [
        "# Coclust"
      ],
      "metadata": {
        "id": "HDDmnO7CsN0-"
      }
    },
    {
      "cell_type": "code",
      "source": [
        "# ** Compute the final coClust modularity on a range of number of clusters **\n",
        "\n",
        "# -- range of number of clusters\n",
        "# ---- get min\n",
        "min_cluster_nbr = 2\n",
        "max_cluster_nbr = 9\n",
        "range_n_clusters = range(min_cluster_nbr, (max_cluster_nbr+1))\n",
        "\n",
        "# -- Number of random initialization per cluster number\n",
        "n_rand_init = 1\n",
        "\n",
        "# --  max modularity for all models\n",
        "model, all_max_modularities = best_modularity_partition(X,range_n_clusters, n_rand_init)"
      ],
      "metadata": {
        "colab": {
          "base_uri": "https://localhost:8080/"
        },
        "id": "R5l645atkX7d",
        "outputId": "0b5d2a3b-f42e-4935-8d93-b21ce548ae12"
      },
      "execution_count": null,
      "outputs": [
        {
          "output_type": "stream",
          "name": "stdout",
          "text": [
            "Computing coclust modularity for a range of cluster numbers =\n",
            " 2 ...\n",
            " 3 ...\n",
            " 4 ...\n",
            " 5 ...\n",
            " 6 ...\n",
            " 7 ...\n",
            " 8 ...\n",
            " 9 ...\n",
            " All done !\n"
          ]
        }
      ]
    },
    {
      "cell_type": "code",
      "source": [
        "# ** Plot all final modularities **\n",
        "plot_max_modularities(all_max_modularities, range_n_clusters)"
      ],
      "metadata": {
        "colab": {
          "base_uri": "https://localhost:8080/",
          "height": 325
        },
        "id": "y9NFtKPmmGsq",
        "outputId": "aadcca86-50dc-419a-db87-61af74053edb"
      },
      "execution_count": null,
      "outputs": [
        {
          "output_type": "display_data",
          "data": {
            "text/plain": [
              "<Figure size 432x288 with 1 Axes>"
            ],
            "image/png": "[encoded data removed]"
          },
          "metadata": {}
        }
      ]
    },
    {
      "cell_type": "code",
      "source": [
        "# ** Plot intermediate modularities for the best CoClust final modularity **\n",
        "plot_intermediate_modularities(model)"
      ],
      "metadata": {
        "colab": {
          "base_uri": "https://localhost:8080/",
          "height": 325
        },
        "id": "nt5RSj5vmPcz",
        "outputId": "ebd44929-9e55-4d21-d137-7ef31af730c8"
      },
      "execution_count": null,
      "outputs": [
        {
          "output_type": "display_data",
          "data": {
            "text/plain": [
              "<Figure size 432x288 with 1 Axes>"
            ],
            "image/png": "[encoded data removed]"
          },
          "metadata": {}
        }
      ]
    },
    {
      "cell_type": "code",
      "source": [
        "# ** Plot top terms for each cluster and the cluster sizes **\n",
        "n_terms = 10\n",
        "\n",
        "# --> top terms\n",
        "plot_cluster_top_terms(X, all_terms_tfidf, n_terms, model)\n",
        "# --> cluster sizes\n",
        "print(\"taille de chaque cluster :\")\n",
        "plot_cluster_sizes(model)"
      ],
      "metadata": {
        "colab": {
          "base_uri": "https://localhost:8080/",
          "height": 1000
        },
        "id": "TWp86PF1mWMN",
        "outputId": "d59b3652-96ca-43d7-a35c-db460fdb4151"
      },
      "execution_count": null,
      "outputs": [
        {
          "output_type": "display_data",
          "data": {
            "text/plain": [
              "<Figure size 576x576 with 4 Axes>"
            ],
            "image/png": "[encoded data removed]"
          },
          "metadata": {}
        },
        {
          "output_type": "stream",
          "name": "stdout",
          "text": [
            "taille de chaque cluster :\n"
          ]
        },
        {
          "output_type": "display_data",
          "data": {
            "text/plain": [
              "<Figure size 720x576 with 1 Axes>"
            ],
            "image/png": "[encoded data removed]"
          },
          "metadata": {}
        }
      ]
    },
    {
      "cell_type": "code",
      "source": [
        "# ** Plot the term graph for a given cluster of terms **\n",
        "#graph = get_term_graph(X,model, all_terms_tfidf, 4, 10, 3)"
      ],
      "metadata": {
        "id": "eGNFFuuonCvs"
      },
      "execution_count": null,
      "outputs": []
    },
    {
      "cell_type": "code",
      "source": [
        "# %%javascript\n",
        "# require.config({\n",
        "#   paths: {\n",
        "#       d3: '//cdnjs.cloudflare.com/ajax/libs/d3/3.4.8/d3.min'\n",
        "#   }\n",
        "# });\n"
      ],
      "metadata": {
        "colab": {
          "base_uri": "https://localhost:8080/",
          "height": 17
        },
        "id": "VIudim2rp1ii",
        "outputId": "2b53eefb-77a8-41cc-db70-dc4a341340ff"
      },
      "execution_count": null,
      "outputs": [
        {
          "output_type": "display_data",
          "data": {
            "text/plain": [
              "<IPython.core.display.Javascript object>"
            ],
            "application/javascript": [
              "require.config({\n",
              "  paths: {\n",
              "      d3: '//cdnjs.cloudflare.com/ajax/libs/d3/3.4.8/d3.min'\n",
              "  }\n",
              "});"
            ]
          },
          "metadata": {}
        }
      ]
    },
    {
      "cell_type": "code",
      "source": [
        "# from IPython.display import Javascript\n",
        "# #runs arbitrary javascript, client-side\n",
        "# Javascript(\"\"\"\n",
        "#            window.graph={};\n",
        "#            \"\"\".format(graph))"
      ],
      "metadata": {
        "colab": {
          "base_uri": "https://localhost:8080/",
          "height": 17
        },
        "id": "thW3FvTXp3i5",
        "outputId": "e3c943ee-2e38-47db-aa42-2f3e930080d5"
      },
      "execution_count": null,
      "outputs": [
        {
          "output_type": "execute_result",
          "data": {
            "text/plain": [
              "<IPython.core.display.Javascript object>"
            ],
            "application/javascript": [
              "\n",
              "           window.graph={'nodes': [{'name': 'cov', 'group': 0}, {'name': 'sars', 'group': 0}, {'name': 'cell', 'group': 0}, {'name': 'protein', 'group': 0}, {'name': 'virus', 'group': 0}, {'name': 'variant', 'group': 0}, {'name': 'antibody', 'group': 0}, {'name': 'infection', 'group': 0}, {'name': 'viral', 'group': 0}, {'name': 'respiratory', 'group': 0}, {'name': 'spike', 'group': 1}, {'name': 'mutation', 'group': 1}, {'name': 'cd', 'group': 1}, {'name': 'syndrome', 'group': 1}, {'name': 'coronavirus', 'group': 1}, {'name': 'response', 'group': 1}, {'name': 'delta', 'group': 1}, {'name': 'neutralize', 'group': 1}, {'name': 'igg', 'group': 1}], 'links': [{'source': 0, 'target': 1, 'value': 0.9803617577866451}, {'source': 0, 'target': 10, 'value': 0.5460119901997428}, {'source': 1, 'target': 10, 'value': 0.5449846183330525}, {'source': 2, 'target': 11, 'value': 0.40386032231755936}, {'source': 2, 'target': 12, 'value': 0.3888749498506052}, {'source': 3, 'target': 13, 'value': 0.4780528688440166}, {'source': 3, 'target': 0, 'value': 0.3999331113901769}, {'source': 4, 'target': 0, 'value': 0.42168348684835893}, {'source': 4, 'target': 1, 'value': 0.42120064481308483}, {'source': 5, 'target': 14, 'value': 0.5351480130955868}, {'source': 5, 'target': 15, 'value': 0.4126796843785296}, {'source': 6, 'target': 16, 'value': 0.5313960171007653}, {'source': 6, 'target': 17, 'value': 0.39378886665544816}, {'source': 7, 'target': 0, 'value': 0.5221917211919511}, {'source': 7, 'target': 1, 'value': 0.5219235290837182}, {'source': 8, 'target': 0, 'value': 0.42052839972352385}, {'source': 8, 'target': 1, 'value': 0.419801424362589}, {'source': 9, 'target': 18, 'value': 0.7575214658737651}, {'source': 9, 'target': 18, 'value': 0.6484430223498664}]};\n",
              "           "
            ]
          },
          "metadata": {},
          "execution_count": 57
        }
      ]
    },
    {
      "cell_type": "code",
      "source": [
        "# %%javascript\n",
        "# require(['d3'], function(d3){\n",
        "#   //a weird idempotency thing\n",
        "#   $(\"#chart1\").remove();\n",
        "#   //create canvas\n",
        "#   element.append(\"<div id='chart1'></div>\");\n",
        "#   $(\"#chart1\").width(\"1160px\");\n",
        "#   $(\"#chart1\").height(\"800px\");        \n",
        "#   var margin = {top: 20, right: 20, bottom: 30, left: 40};\n",
        "#   var width = 1280 - margin.left - margin.right;\n",
        "#   var height = 800 - margin.top - margin.bottom;\n",
        "#   var svg = d3.select(\"#chart1\").append(\"svg\")\n",
        "#     .style(\"position\", \"relative\")\n",
        "#     .style(\"max-width\", \"960px\")\n",
        "#     .attr(\"width\", width + \"px\")\n",
        "#     .attr(\"height\", (height + 50) + \"px\")\n",
        "#     .call(d3.behavior.zoom().on(\"zoom\", redraw))\n",
        "#     .append(\"g\")\n",
        "#     .attr(\"transform\", \"translate(\" + margin.left + \",\" + margin.top + \")\");\n",
        "    \n",
        "    \n",
        "#   function redraw() {\n",
        "#       svg.attr(\"transform\",\n",
        "#                \"translate(\" + d3.event.translate + \")\"\n",
        "#                + \" scale(\" + d3.event.scale + \")\");\n",
        "#   }   \n",
        "\n",
        "#   var color = d3.scale.category20();\n",
        "\n",
        "#   var force = d3.layout.force()\n",
        "#     .charge(-500)\n",
        "#     //.linkDistance(5)\n",
        "#     .linkDistance(function(d) { return (1 - d.value); })\n",
        "#     .size([width, height]);\n",
        "\n",
        "#   var graph = window.graph;\n",
        "    \n",
        "#   force\n",
        "#       .nodes(graph.nodes)\n",
        "#       .links(graph.links)\n",
        "#       .start();\n",
        "\n",
        "#   var link = svg.selectAll(\".link\")\n",
        "#       .data(graph.links)\n",
        "#       .enter().append(\"line\")\n",
        "#       .attr(\"class\", \"link\")\n",
        "#       .style(\"stroke\", \"#999;\")\n",
        "#       .style(\"stroke-opacity\", .6)\n",
        "#       .style(\"stroke-width\", function(d) { return Math.sqrt(d.value); })\n",
        "  \n",
        "#       .style(\"stroke\", \"blue\");\n",
        "\n",
        "#   var node = svg.selectAll(\".node\")\n",
        "#       .data(graph.nodes)\n",
        "#       .enter().append(\"g\")\n",
        "#       .attr(\"class\", \"node\")\n",
        "#       .call(force.drag);\n",
        "    \n",
        "#   node.append(\"circle\")\n",
        "#       .attr(\"class\", \"node_circle\")\n",
        "#       .attr(\"r\", 8)\n",
        "#       .style(\"fill\", function(d) { return color(d.group); });\n",
        "\n",
        "#   node.append(\"text\")\n",
        "#       .attr(\"class\", \"node_text\")\n",
        "#       .attr(\"dx\", 12)\n",
        "#       .attr(\"dy\", \".35em\")\n",
        "#       .text(function(d) { return d.name });\n",
        "\n",
        "#   node.append(\"title\")\n",
        "#       .text(function(d) { return d.name; });\n",
        "\n",
        "#   var node_text = svg.selectAll(\".node_text\");\n",
        "#   var node_circle = svg.selectAll(\".node_circle\");\n",
        "    \n",
        "#   force.on(\"tick\", function() {\n",
        "#     link.attr(\"x1\", function(d) { return d.source.x; })\n",
        "#         .attr(\"y1\", function(d) { return d.source.y; })\n",
        "#         .attr(\"x2\", function(d) { return d.target.x; })\n",
        "#         .attr(\"y2\", function(d) { return d.target.y; });\n",
        "\n",
        "#     node_circle.attr(\"cx\", function(d) { return d.x; })\n",
        "#         .attr(\"cy\", function(d) { return d.y; });\n",
        "      \n",
        "#     node_text.attr(\"x\", function(d) { return d.x; })\n",
        "#         .attr(\"y\", function(d) { return d.y; });\n",
        "#   });\n",
        "# });"
      ],
      "metadata": {
        "id": "5voMukEdp7Us"
      },
      "execution_count": null,
      "outputs": []
    },
    {
      "cell_type": "markdown",
      "source": [
        "### Compute spectral co-clustering with the CoclustSpecMod approach "
      ],
      "metadata": {
        "id": "yaUiP7VlvIB4"
      }
    },
    {
      "cell_type": "code",
      "source": [
        "# ** Compute spectral co-clustering with the CoclustSpecMod approach **\n",
        "\n",
        "n_clusters = model.n_clusters\n",
        "# Perform co-clustering\n",
        "coclust_specMod_model = CoclustSpecMod(n_clusters=n_clusters, random_state=0)\n",
        "coclust_specMod_model.fit(X)"
      ],
      "metadata": {
        "id": "_swhcHk_p_82"
      },
      "execution_count": null,
      "outputs": []
    },
    {
      "cell_type": "markdown",
      "source": [
        "proble RAM plante"
      ],
      "metadata": {
        "id": "v_0MB7oLyh2Y"
      }
    },
    {
      "cell_type": "code",
      "source": [
        "# ** Plot top terms for each cluster and the cluster sizes **\n",
        "\n",
        "n_terms = 10\n",
        "\n",
        "# --> top terms\n",
        "plot_cluster_top_terms(X, all_terms_tfidf, n_terms, coclust_specMod_model)\n",
        "# --> cluster sizes\n",
        "plot_cluster_sizes(coclust_specMod_model)"
      ],
      "metadata": {
        "id": "QCFaNwMWqOh7"
      },
      "execution_count": null,
      "outputs": []
    },
    {
      "cell_type": "markdown",
      "source": [
        "### Compute co-clustering with the CoclustInfo approach"
      ],
      "metadata": {
        "id": "wyYX8YfCvOkU"
      }
    },
    {
      "cell_type": "code",
      "source": [
        "# ** Compute co-clustering with the CoclustInfo approach **\n",
        "\n",
        "n_clusters = model.n_clusters\n",
        "n_rand_init = input_with_default_int('Number of random initialization', 1)\n",
        "# Perform co-clustering\n",
        "coclust_info_model = CoclustInfo(n_row_clusters = n_clusters, n_col_clusters = n_clusters,\n",
        "                                 n_init = n_rand_init, random_state = 0)\n",
        "coclust_info_model.fit(X)"
      ],
      "metadata": {
        "id": "bZyVmBiGqPNY"
      },
      "execution_count": null,
      "outputs": []
    },
    {
      "cell_type": "markdown",
      "source": [
        "### Comparaison"
      ],
      "metadata": {
        "id": "1xBHisxdwGgB"
      }
    },
    {
      "cell_type": "code",
      "source": [
        "# ** Compare clustering quality measure for coClustMod, coClustSpecMod and info **\n",
        "\n",
        "true_row_labels = all_terms_tfidf\n",
        "n_clusters = model.n_clusters\n",
        "\n",
        "def print_NMI_and_ARI(true_row_labels, predicted_row_labels):\n",
        "    nmi_ = nmi(true_row_labels, predicted_row_labels)\n",
        "    ari_ = ari(true_row_labels, predicted_row_labels)\n",
        "    print(\"NMI: {}\\nARI: {}\".format(nmi_, ari_))\n",
        "\n",
        "## Evaluate the results for (Best) Modularity co-clustering\n",
        "print(10*'=')\n",
        "print(\"(Best) Modularity co-clustering\")\n",
        "print(5*'-')\n",
        "#print(\"CRITERION: %s\" % best_coclustMod_model.criterion)\n",
        "predicted_row_labels = model.row_labels_\n",
        "print_NMI_and_ARI(true_row_labels, predicted_row_labels)\n",
        "#print_accuracy = accuracy(true_row_labels, predicted_row_labels)\n",
        "print(\"ACCURACY: %s\" % print_accuracy)\n",
        "            \n",
        "## Evaluate the results for Spectral Modularity co-clustering\n",
        "print(10*'=')\n",
        "print(\"Spectral Modularity co-clustering\")\n",
        "print(5*'-')\n",
        "#print(\"CRITERION: %s\" % coclust_specMod_model.criterion)\n",
        "predicted_row_labels = coclust_specMod_model.row_labels_\n",
        "#print_NMI_and_ARI(true_row_labels, predicted_row_labels)\n",
        "#print_accuracy = accuracy(true_row_labels, predicted_row_labels)\n",
        "print(\"ACCURACY: %s\" % print_accuracy)\n",
        "      \n",
        "## Evaluate the results for Info co-clustering\n",
        "print(10*'=')\n",
        "print(\"Info co-clustering\")\n",
        "print(5*'-')\n",
        "print(\"CRITERION: %s\" % coclust_info_model.criterion)\n",
        "predicted_row_labels = coclust_info_model.row_labels_\n",
        "print_NMI_and_ARI(true_row_labels, predicted_row_labels)\n",
        "#print_accuracy = accuracy(true_row_labels, predicted_row_labels)\n",
        "print(\"ACCURACY: %s\" % print_accuracy)"
      ],
      "metadata": {
        "id": "1OjM65UuqVLU"
      },
      "execution_count": null,
      "outputs": []
    },
    {
      "cell_type": "markdown",
      "source": [
        "RAM plante bcp !!!"
      ],
      "metadata": {
        "id": "SrPp7oWywff5"
      }
    }
  ]
}